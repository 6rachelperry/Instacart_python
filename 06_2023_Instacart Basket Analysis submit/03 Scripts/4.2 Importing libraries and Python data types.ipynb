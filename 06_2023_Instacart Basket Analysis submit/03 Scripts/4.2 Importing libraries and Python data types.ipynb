{
 "cells": [
  {
   "cell_type": "markdown",
   "id": "e3d0585c",
   "metadata": {},
   "source": [
    "# Contents\n",
    "01- Importing Library\n",
    "02- Data Types\n",
    "03- Task\n",
    "    3.1 Math functions\n",
    "    3.2 String functions"
   ]
  },
  {
   "cell_type": "markdown",
   "id": "2b9de745",
   "metadata": {},
   "source": [
    "# 01 Importing libraries"
   ]
  },
  {
   "cell_type": "code",
   "execution_count": 1,
   "id": "774cdca0",
   "metadata": {},
   "outputs": [],
   "source": [
    "# Import libraries\n",
    "import pandas as pd\n",
    "import numpy as np\n",
    "import os"
   ]
  },
  {
   "cell_type": "markdown",
   "id": "ca5c1479",
   "metadata": {},
   "source": [
    "# 02 Data Types"
   ]
  },
  {
   "cell_type": "code",
   "execution_count": 2,
   "id": "24b87c6b",
   "metadata": {},
   "outputs": [],
   "source": [
    "x = 2"
   ]
  },
  {
   "cell_type": "code",
   "execution_count": 3,
   "id": "60941f77",
   "metadata": {},
   "outputs": [
    {
     "data": {
      "text/plain": [
       "2"
      ]
     },
     "execution_count": 3,
     "metadata": {},
     "output_type": "execute_result"
    }
   ],
   "source": [
    "x"
   ]
  },
  {
   "cell_type": "code",
   "execution_count": 4,
   "id": "89186364",
   "metadata": {},
   "outputs": [
    {
     "name": "stdout",
     "output_type": "stream",
     "text": [
      "2\n"
     ]
    }
   ],
   "source": [
    "print(x)"
   ]
  },
  {
   "cell_type": "code",
   "execution_count": 5,
   "id": "d1a646f8",
   "metadata": {},
   "outputs": [
    {
     "data": {
      "text/plain": [
       "int"
      ]
     },
     "execution_count": 5,
     "metadata": {},
     "output_type": "execute_result"
    }
   ],
   "source": [
    "type(x)"
   ]
  },
  {
   "cell_type": "code",
   "execution_count": 6,
   "id": "9623d65f",
   "metadata": {},
   "outputs": [],
   "source": [
    "y = 5.678"
   ]
  },
  {
   "cell_type": "code",
   "execution_count": 7,
   "id": "99994f06",
   "metadata": {},
   "outputs": [
    {
     "data": {
      "text/plain": [
       "float"
      ]
     },
     "execution_count": 7,
     "metadata": {},
     "output_type": "execute_result"
    }
   ],
   "source": [
    "type(y)"
   ]
  },
  {
   "cell_type": "code",
   "execution_count": 8,
   "id": "2d99ee94",
   "metadata": {},
   "outputs": [],
   "source": [
    "z = 'Brazil'"
   ]
  },
  {
   "cell_type": "code",
   "execution_count": 9,
   "id": "0e64e751",
   "metadata": {},
   "outputs": [
    {
     "data": {
      "text/plain": [
       "str"
      ]
     },
     "execution_count": 9,
     "metadata": {},
     "output_type": "execute_result"
    }
   ],
   "source": [
    "type(z)"
   ]
  },
  {
   "cell_type": "code",
   "execution_count": 10,
   "id": "9cfb98a6",
   "metadata": {},
   "outputs": [
    {
     "data": {
      "text/plain": [
       "bool"
      ]
     },
     "execution_count": 10,
     "metadata": {},
     "output_type": "execute_result"
    }
   ],
   "source": [
    "type(True)"
   ]
  },
  {
   "cell_type": "code",
   "execution_count": 11,
   "id": "433ca053",
   "metadata": {},
   "outputs": [
    {
     "data": {
      "text/plain": [
       "bool"
      ]
     },
     "execution_count": 11,
     "metadata": {},
     "output_type": "execute_result"
    }
   ],
   "source": [
    "type(False)"
   ]
  },
  {
   "cell_type": "code",
   "execution_count": 12,
   "id": "23c2c541",
   "metadata": {},
   "outputs": [
    {
     "data": {
      "text/plain": [
       "6"
      ]
     },
     "execution_count": 12,
     "metadata": {},
     "output_type": "execute_result"
    }
   ],
   "source": [
    "x + 4"
   ]
  },
  {
   "cell_type": "code",
   "execution_count": 13,
   "id": "dfd5b34e",
   "metadata": {},
   "outputs": [
    {
     "data": {
      "text/plain": [
       "7.678"
      ]
     },
     "execution_count": 13,
     "metadata": {},
     "output_type": "execute_result"
    }
   ],
   "source": [
    "x + y"
   ]
  },
  {
   "cell_type": "code",
   "execution_count": 14,
   "id": "ce781d23",
   "metadata": {},
   "outputs": [],
   "source": [
    "x = x+4"
   ]
  },
  {
   "cell_type": "code",
   "execution_count": 15,
   "id": "74000ff1",
   "metadata": {},
   "outputs": [
    {
     "name": "stdout",
     "output_type": "stream",
     "text": [
      "6\n"
     ]
    }
   ],
   "source": [
    "print(x)"
   ]
  },
  {
   "cell_type": "code",
   "execution_count": 21,
   "id": "9da1323c",
   "metadata": {},
   "outputs": [],
   "source": [
    "a='Hello, '"
   ]
  },
  {
   "cell_type": "code",
   "execution_count": 17,
   "id": "e315c203",
   "metadata": {},
   "outputs": [],
   "source": [
    "b='Marley'"
   ]
  },
  {
   "cell_type": "code",
   "execution_count": 22,
   "id": "31cd3605",
   "metadata": {},
   "outputs": [
    {
     "data": {
      "text/plain": [
       "'Hello, Marley'"
      ]
     },
     "execution_count": 22,
     "metadata": {},
     "output_type": "execute_result"
    }
   ],
   "source": [
    "a+b"
   ]
  },
  {
   "cell_type": "code",
   "execution_count": 24,
   "id": "8bf57fe1",
   "metadata": {},
   "outputs": [],
   "source": [
    "n='potato'"
   ]
  },
  {
   "cell_type": "code",
   "execution_count": 25,
   "id": "045bae9b",
   "metadata": {},
   "outputs": [
    {
     "data": {
      "text/plain": [
       "'potatopotatopotatopotatopotatopotatopotatopotatopotatopotato'"
      ]
     },
     "execution_count": 25,
     "metadata": {},
     "output_type": "execute_result"
    }
   ],
   "source": [
    "n*10"
   ]
  },
  {
   "cell_type": "code",
   "execution_count": 26,
   "id": "681e6864",
   "metadata": {},
   "outputs": [
    {
     "data": {
      "text/plain": [
       "False"
      ]
     },
     "execution_count": 26,
     "metadata": {},
     "output_type": "execute_result"
    }
   ],
   "source": [
    "x==y"
   ]
  },
  {
   "cell_type": "code",
   "execution_count": 27,
   "id": "262995f1",
   "metadata": {},
   "outputs": [
    {
     "data": {
      "text/plain": [
       "bool"
      ]
     },
     "execution_count": 27,
     "metadata": {},
     "output_type": "execute_result"
    }
   ],
   "source": [
    "type(x==y)"
   ]
  },
  {
   "cell_type": "markdown",
   "id": "758c68f8",
   "metadata": {},
   "source": [
    "# 03 Task"
   ]
  },
  {
   "cell_type": "markdown",
   "id": "65ada99a",
   "metadata": {},
   "source": [
    "## 3.1 use of math functions"
   ]
  },
  {
   "cell_type": "code",
   "execution_count": 1,
   "id": "827bed64",
   "metadata": {},
   "outputs": [],
   "source": [
    "x=50"
   ]
  },
  {
   "cell_type": "code",
   "execution_count": 3,
   "id": "bdf9f2e2",
   "metadata": {},
   "outputs": [],
   "source": [
    "y=150"
   ]
  },
  {
   "cell_type": "code",
   "execution_count": null,
   "id": "db44ab94",
   "metadata": {},
   "outputs": [],
   "source": []
  },
  {
   "cell_type": "code",
   "execution_count": 4,
   "id": "de63334b",
   "metadata": {},
   "outputs": [
    {
     "data": {
      "text/plain": [
       "100"
      ]
     },
     "execution_count": 4,
     "metadata": {},
     "output_type": "execute_result"
    }
   ],
   "source": [
    "x+x"
   ]
  },
  {
   "cell_type": "code",
   "execution_count": 5,
   "id": "175f9f3b",
   "metadata": {},
   "outputs": [
    {
     "data": {
      "text/plain": [
       "100"
      ]
     },
     "execution_count": 5,
     "metadata": {},
     "output_type": "execute_result"
    }
   ],
   "source": [
    "x*2"
   ]
  },
  {
   "cell_type": "code",
   "execution_count": 6,
   "id": "3fbd0bde",
   "metadata": {},
   "outputs": [
    {
     "data": {
      "text/plain": [
       "100"
      ]
     },
     "execution_count": 6,
     "metadata": {},
     "output_type": "execute_result"
    }
   ],
   "source": [
    "y-x"
   ]
  },
  {
   "cell_type": "code",
   "execution_count": 7,
   "id": "86947d6a",
   "metadata": {},
   "outputs": [],
   "source": [
    "a=3.1"
   ]
  },
  {
   "cell_type": "code",
   "execution_count": 8,
   "id": "3b616d5d",
   "metadata": {},
   "outputs": [],
   "source": [
    "b=4.7"
   ]
  },
  {
   "cell_type": "code",
   "execution_count": 9,
   "id": "5fec01d1",
   "metadata": {},
   "outputs": [
    {
     "data": {
      "text/plain": [
       "1.5161290322580645"
      ]
     },
     "execution_count": 9,
     "metadata": {},
     "output_type": "execute_result"
    }
   ],
   "source": [
    "b/a"
   ]
  },
  {
   "cell_type": "markdown",
   "id": "3b9489ab",
   "metadata": {},
   "source": [
    "## 3.2 String functions"
   ]
  },
  {
   "cell_type": "code",
   "execution_count": 15,
   "id": "f8a61914",
   "metadata": {},
   "outputs": [],
   "source": [
    "r='Rachel '"
   ]
  },
  {
   "cell_type": "code",
   "execution_count": 16,
   "id": "d4d69a93",
   "metadata": {},
   "outputs": [],
   "source": [
    "i='is '"
   ]
  },
  {
   "cell_type": "code",
   "execution_count": 17,
   "id": "1c6e3cdd",
   "metadata": {},
   "outputs": [],
   "source": [
    "m='my '"
   ]
  },
  {
   "cell_type": "code",
   "execution_count": 18,
   "id": "a6fb5a15",
   "metadata": {},
   "outputs": [],
   "source": [
    "n='name.'"
   ]
  },
  {
   "cell_type": "code",
   "execution_count": 19,
   "id": "fb88cadf",
   "metadata": {},
   "outputs": [
    {
     "data": {
      "text/plain": [
       "'Rachel is my name.'"
      ]
     },
     "execution_count": 19,
     "metadata": {},
     "output_type": "execute_result"
    }
   ],
   "source": [
    "r+i+m+n"
   ]
  },
  {
   "cell_type": "code",
   "execution_count": 20,
   "id": "9a6395ee",
   "metadata": {},
   "outputs": [],
   "source": [
    "f='foot'"
   ]
  },
  {
   "cell_type": "code",
   "execution_count": 21,
   "id": "b9785012",
   "metadata": {},
   "outputs": [],
   "source": [
    "b='ball'"
   ]
  },
  {
   "cell_type": "code",
   "execution_count": 22,
   "id": "3e0facd7",
   "metadata": {},
   "outputs": [
    {
     "data": {
      "text/plain": [
       "'football'"
      ]
     },
     "execution_count": 22,
     "metadata": {},
     "output_type": "execute_result"
    }
   ],
   "source": [
    "f+b"
   ]
  },
  {
   "cell_type": "code",
   "execution_count": 26,
   "id": "81fa953c",
   "metadata": {},
   "outputs": [],
   "source": [
    "C=\" Colorado is home.\""
   ]
  },
  {
   "cell_type": "raw",
   "id": "b8eb4ebb",
   "metadata": {},
   "source": []
  },
  {
   "cell_type": "raw",
   "id": "34754979",
   "metadata": {},
   "source": []
  },
  {
   "cell_type": "code",
   "execution_count": 27,
   "id": "3a883e79",
   "metadata": {},
   "outputs": [
    {
     "data": {
      "text/plain": [
       "'Rachel is my name. Colorado is home.'"
      ]
     },
     "execution_count": 27,
     "metadata": {},
     "output_type": "execute_result"
    }
   ],
   "source": [
    "r+i+m+n+C"
   ]
  },
  {
   "cell_type": "code",
   "execution_count": 29,
   "id": "80bb5000",
   "metadata": {},
   "outputs": [
    {
     "data": {
      "text/plain": [
       "'Rachel Rachel Rachel Rachel Rachel Rachel Rachel Rachel Rachel Rachel Rachel Rachel Rachel Rachel Rachel Rachel Rachel Rachel Rachel Rachel Rachel Rachel Rachel Rachel Rachel Rachel Rachel Rachel Rachel Rachel Rachel Rachel Rachel Rachel Rachel Rachel Rachel Rachel Rachel Rachel Rachel Rachel Rachel Rachel Rachel Rachel Rachel Rachel Rachel Rachel Rachel Rachel Rachel Rachel Rachel Rachel Rachel Rachel Rachel Rachel Rachel Rachel Rachel Rachel Rachel Rachel Rachel Rachel Rachel Rachel Rachel Rachel Rachel Rachel Rachel Rachel Rachel Rachel Rachel Rachel Rachel Rachel Rachel Rachel Rachel Rachel Rachel Rachel Rachel Rachel Rachel Rachel Rachel Rachel Rachel Rachel Rachel Rachel Rachel Rachel '"
      ]
     },
     "execution_count": 29,
     "metadata": {},
     "output_type": "execute_result"
    }
   ],
   "source": [
    "r*100"
   ]
  },
  {
   "cell_type": "code",
   "execution_count": null,
   "id": "91461c75",
   "metadata": {},
   "outputs": [],
   "source": []
  }
 ],
 "metadata": {
  "kernelspec": {
   "display_name": "Python 3 (ipykernel)",
   "language": "python",
   "name": "python3"
  },
  "language_info": {
   "codemirror_mode": {
    "name": "ipython",
    "version": 3
   },
   "file_extension": ".py",
   "mimetype": "text/x-python",
   "name": "python",
   "nbconvert_exporter": "python",
   "pygments_lexer": "ipython3",
   "version": "3.10.9"
  }
 },
 "nbformat": 4,
 "nbformat_minor": 5
}
