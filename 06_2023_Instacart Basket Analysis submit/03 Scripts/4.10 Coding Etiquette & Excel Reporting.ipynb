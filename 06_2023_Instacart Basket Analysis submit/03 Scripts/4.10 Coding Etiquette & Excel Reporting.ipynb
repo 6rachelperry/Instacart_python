{
 "cells": [
  {
   "cell_type": "markdown",
   "id": "f9817ea3",
   "metadata": {},
   "source": [
    "# Contents\n",
    "01 - Import Library\n",
    "02 - Import Data\n",
    "03 - Task 4.10\n",
    "    3.1 Dropping Columns\n",
    "    3.2 Creating a region flag\n",
    "    3.3 Exclusion Flag for customers under 5 max orders\n",
    "    3.4 Creating an age flag\n",
    "    3.5 Visualizations by Dept, Region & Loyalty\n",
    "    3.6 Visualization by Loyalty Status\n",
    "    3.7 Visualization by kids\n",
    "    3.8 Income Flag\n",
    "    3.9 Dept Visualizations\n",
    "    3.10 Region Visualizations\n",
    "    3.11 Marital Status\n",
    "    3.12 Spending and Age\n",
    "    3.13 Day of week visualizations\n",
    "    3.14 Aggregations\n",
    "    3.15 Gender Visualizations\n",
    "    3.16 Frequency Visualizations\n",
    "04 - Saving Data\n",
    "    4.1 Price Label Breakdown"
   ]
  },
  {
   "cell_type": "markdown",
   "id": "6f8fcc3b",
   "metadata": {},
   "source": [
    "# 01 Import Library"
   ]
  },
  {
   "cell_type": "code",
   "execution_count": 1,
   "id": "b8d2f493",
   "metadata": {},
   "outputs": [],
   "source": [
    "import pandas as pd\n",
    "import numpy as np\n",
    "import os\n",
    "import matplotlib.pyplot as plt\n",
    "import seaborn as sns\n",
    "import scipy"
   ]
  },
  {
   "cell_type": "markdown",
   "id": "71b0e0ea",
   "metadata": {},
   "source": [
    "# 02 Import Data"
   ]
  },
  {
   "cell_type": "code",
   "execution_count": 2,
   "id": "d905e968",
   "metadata": {},
   "outputs": [],
   "source": [
    "#folder shortcut\n",
    "path = r'/Users/rachelmoreland/06_2023_Instacart Basket Analysis'"
   ]
  },
  {
   "cell_type": "code",
   "execution_count": 3,
   "id": "b9203cc8",
   "metadata": {},
   "outputs": [],
   "source": [
    "#importing newdataset\n",
    "df_ords_prods_all = pd.read_pickle(os.path.join(path, '02 Data', 'Prepared Data', 'orda_prods_all_updated.pkl'))"
   ]
  },
  {
   "cell_type": "code",
   "execution_count": 4,
   "id": "fc1f2775",
   "metadata": {},
   "outputs": [
    {
     "data": {
      "text/html": [
       "<div>\n",
       "<style scoped>\n",
       "    .dataframe tbody tr th:only-of-type {\n",
       "        vertical-align: middle;\n",
       "    }\n",
       "\n",
       "    .dataframe tbody tr th {\n",
       "        vertical-align: top;\n",
       "    }\n",
       "\n",
       "    .dataframe thead th {\n",
       "        text-align: right;\n",
       "    }\n",
       "</style>\n",
       "<table border=\"1\" class=\"dataframe\">\n",
       "  <thead>\n",
       "    <tr style=\"text-align: right;\">\n",
       "      <th></th>\n",
       "      <th>user_id</th>\n",
       "      <th>first</th>\n",
       "      <th>last</th>\n",
       "      <th>gender</th>\n",
       "      <th>state</th>\n",
       "      <th>age</th>\n",
       "      <th>date_joined</th>\n",
       "      <th>number_of_dependants</th>\n",
       "      <th>marital_status</th>\n",
       "      <th>income</th>\n",
       "      <th>...</th>\n",
       "      <th>price_label</th>\n",
       "      <th>busiest_day</th>\n",
       "      <th>busiest_days</th>\n",
       "      <th>busiest_period_of_day</th>\n",
       "      <th>max_order</th>\n",
       "      <th>loyalty_flag</th>\n",
       "      <th>avg_prices</th>\n",
       "      <th>spending_flag</th>\n",
       "      <th>median_order_freq</th>\n",
       "      <th>frequency_flag</th>\n",
       "    </tr>\n",
       "  </thead>\n",
       "  <tbody>\n",
       "    <tr>\n",
       "      <th>0</th>\n",
       "      <td>26711</td>\n",
       "      <td>Deborah</td>\n",
       "      <td>Esquivel</td>\n",
       "      <td>Female</td>\n",
       "      <td>Missouri</td>\n",
       "      <td>48</td>\n",
       "      <td>1/1/2017</td>\n",
       "      <td>3</td>\n",
       "      <td>married</td>\n",
       "      <td>165665</td>\n",
       "      <td>...</td>\n",
       "      <td>Mid-range product</td>\n",
       "      <td>Regularly busy</td>\n",
       "      <td>Busiest days</td>\n",
       "      <td>Most Orders</td>\n",
       "      <td>8</td>\n",
       "      <td>New customer</td>\n",
       "      <td>7.988889</td>\n",
       "      <td>Low Spender</td>\n",
       "      <td>19.0</td>\n",
       "      <td>Regular customer</td>\n",
       "    </tr>\n",
       "    <tr>\n",
       "      <th>1</th>\n",
       "      <td>26711</td>\n",
       "      <td>Deborah</td>\n",
       "      <td>Esquivel</td>\n",
       "      <td>Female</td>\n",
       "      <td>Missouri</td>\n",
       "      <td>48</td>\n",
       "      <td>1/1/2017</td>\n",
       "      <td>3</td>\n",
       "      <td>married</td>\n",
       "      <td>165665</td>\n",
       "      <td>...</td>\n",
       "      <td>Mid-range product</td>\n",
       "      <td>Regularly busy</td>\n",
       "      <td>Regularly busy</td>\n",
       "      <td>Most Orders</td>\n",
       "      <td>8</td>\n",
       "      <td>New customer</td>\n",
       "      <td>7.988889</td>\n",
       "      <td>Low Spender</td>\n",
       "      <td>19.0</td>\n",
       "      <td>Regular customer</td>\n",
       "    </tr>\n",
       "    <tr>\n",
       "      <th>2</th>\n",
       "      <td>26711</td>\n",
       "      <td>Deborah</td>\n",
       "      <td>Esquivel</td>\n",
       "      <td>Female</td>\n",
       "      <td>Missouri</td>\n",
       "      <td>48</td>\n",
       "      <td>1/1/2017</td>\n",
       "      <td>3</td>\n",
       "      <td>married</td>\n",
       "      <td>165665</td>\n",
       "      <td>...</td>\n",
       "      <td>Mid-range product</td>\n",
       "      <td>Regularly busy</td>\n",
       "      <td>Busiest days</td>\n",
       "      <td>Most Orders</td>\n",
       "      <td>8</td>\n",
       "      <td>New customer</td>\n",
       "      <td>7.988889</td>\n",
       "      <td>Low Spender</td>\n",
       "      <td>19.0</td>\n",
       "      <td>Regular customer</td>\n",
       "    </tr>\n",
       "    <tr>\n",
       "      <th>3</th>\n",
       "      <td>26711</td>\n",
       "      <td>Deborah</td>\n",
       "      <td>Esquivel</td>\n",
       "      <td>Female</td>\n",
       "      <td>Missouri</td>\n",
       "      <td>48</td>\n",
       "      <td>1/1/2017</td>\n",
       "      <td>3</td>\n",
       "      <td>married</td>\n",
       "      <td>165665</td>\n",
       "      <td>...</td>\n",
       "      <td>Low-range product</td>\n",
       "      <td>Regularly busy</td>\n",
       "      <td>Regularly busy</td>\n",
       "      <td>Most Orders</td>\n",
       "      <td>8</td>\n",
       "      <td>New customer</td>\n",
       "      <td>7.988889</td>\n",
       "      <td>Low Spender</td>\n",
       "      <td>19.0</td>\n",
       "      <td>Regular customer</td>\n",
       "    </tr>\n",
       "    <tr>\n",
       "      <th>4</th>\n",
       "      <td>26711</td>\n",
       "      <td>Deborah</td>\n",
       "      <td>Esquivel</td>\n",
       "      <td>Female</td>\n",
       "      <td>Missouri</td>\n",
       "      <td>48</td>\n",
       "      <td>1/1/2017</td>\n",
       "      <td>3</td>\n",
       "      <td>married</td>\n",
       "      <td>165665</td>\n",
       "      <td>...</td>\n",
       "      <td>Low-range product</td>\n",
       "      <td>Regularly busy</td>\n",
       "      <td>Least busy</td>\n",
       "      <td>Most Orders</td>\n",
       "      <td>8</td>\n",
       "      <td>New customer</td>\n",
       "      <td>7.988889</td>\n",
       "      <td>Low Spender</td>\n",
       "      <td>19.0</td>\n",
       "      <td>Regular customer</td>\n",
       "    </tr>\n",
       "  </tbody>\n",
       "</table>\n",
       "<p>5 rows × 32 columns</p>\n",
       "</div>"
      ],
      "text/plain": [
       "  user_id    first      last  gender     state  age date_joined  \\\n",
       "0   26711  Deborah  Esquivel  Female  Missouri   48    1/1/2017   \n",
       "1   26711  Deborah  Esquivel  Female  Missouri   48    1/1/2017   \n",
       "2   26711  Deborah  Esquivel  Female  Missouri   48    1/1/2017   \n",
       "3   26711  Deborah  Esquivel  Female  Missouri   48    1/1/2017   \n",
       "4   26711  Deborah  Esquivel  Female  Missouri   48    1/1/2017   \n",
       "\n",
       "   number_of_dependants marital_status  income  ...        price_label  \\\n",
       "0                     3        married  165665  ...  Mid-range product   \n",
       "1                     3        married  165665  ...  Mid-range product   \n",
       "2                     3        married  165665  ...  Mid-range product   \n",
       "3                     3        married  165665  ...  Low-range product   \n",
       "4                     3        married  165665  ...  Low-range product   \n",
       "\n",
       "      busiest_day    busiest_days  busiest_period_of_day  max_order  \\\n",
       "0  Regularly busy    Busiest days            Most Orders          8   \n",
       "1  Regularly busy  Regularly busy            Most Orders          8   \n",
       "2  Regularly busy    Busiest days            Most Orders          8   \n",
       "3  Regularly busy  Regularly busy            Most Orders          8   \n",
       "4  Regularly busy      Least busy            Most Orders          8   \n",
       "\n",
       "   loyalty_flag  avg_prices  spending_flag  median_order_freq  \\\n",
       "0  New customer    7.988889    Low Spender               19.0   \n",
       "1  New customer    7.988889    Low Spender               19.0   \n",
       "2  New customer    7.988889    Low Spender               19.0   \n",
       "3  New customer    7.988889    Low Spender               19.0   \n",
       "4  New customer    7.988889    Low Spender               19.0   \n",
       "\n",
       "     frequency_flag  \n",
       "0  Regular customer  \n",
       "1  Regular customer  \n",
       "2  Regular customer  \n",
       "3  Regular customer  \n",
       "4  Regular customer  \n",
       "\n",
       "[5 rows x 32 columns]"
      ]
     },
     "execution_count": 4,
     "metadata": {},
     "output_type": "execute_result"
    }
   ],
   "source": [
    "df_ords_prods_all.head()"
   ]
  },
  {
   "cell_type": "code",
   "execution_count": 5,
   "id": "ec48d684",
   "metadata": {},
   "outputs": [
    {
     "name": "stdout",
     "output_type": "stream",
     "text": [
      "<class 'pandas.core.frame.DataFrame'>\n",
      "Int64Index: 30629741 entries, 0 to 30629740\n",
      "Data columns (total 32 columns):\n",
      " #   Column                  Dtype  \n",
      "---  ------                  -----  \n",
      " 0   user_id                 object \n",
      " 1   first                   object \n",
      " 2   last                    object \n",
      " 3   gender                  object \n",
      " 4   state                   object \n",
      " 5   age                     int64  \n",
      " 6   date_joined             object \n",
      " 7   number_of_dependants    int64  \n",
      " 8   marital_status          object \n",
      " 9   income                  int64  \n",
      " 10  product_id              int64  \n",
      " 11  product_name            object \n",
      " 12  aisle_id                int64  \n",
      " 13  department_id           int64  \n",
      " 14  prices                  float64\n",
      " 15  order_id                int64  \n",
      " 16  order_number            int64  \n",
      " 17  orders_day_of_week      int64  \n",
      " 18  order_hour_of_day       int64  \n",
      " 19  days_since_prior_order  float64\n",
      " 20  add_to_cart_order       int64  \n",
      " 21  reordered               int64  \n",
      " 22  price_label             object \n",
      " 23  busiest_day             object \n",
      " 24  busiest_days            object \n",
      " 25  busiest_period_of_day   object \n",
      " 26  max_order               int64  \n",
      " 27  loyalty_flag            object \n",
      " 28  avg_prices              float64\n",
      " 29  spending_flag           object \n",
      " 30  median_order_freq       float64\n",
      " 31  frequency_flag          object \n",
      "dtypes: float64(4), int64(13), object(15)\n",
      "memory usage: 7.5+ GB\n"
     ]
    }
   ],
   "source": [
    "df_ords_prods_all.info()"
   ]
  },
  {
   "cell_type": "code",
   "execution_count": 6,
   "id": "fe0f422d",
   "metadata": {},
   "outputs": [],
   "source": [
    "#making a crosstab to see if days since prior orders that are 0 are just the first order\n",
    "crosstab = pd.crosstab(df_ords_prods_all['days_since_prior_order'], df_ords_prods_all['order_number'], dropna = False)"
   ]
  },
  {
   "cell_type": "code",
   "execution_count": 7,
   "id": "713eeff0",
   "metadata": {},
   "outputs": [],
   "source": [
    "#copying the table straight to clipboard\n",
    "crosstab.to_clipboard()"
   ]
  },
  {
   "cell_type": "code",
   "execution_count": 8,
   "id": "aac60ac9",
   "metadata": {},
   "outputs": [
    {
     "data": {
      "text/plain": [
       "Index(['user_id', 'first', 'last', 'gender', 'state', 'age', 'date_joined',\n",
       "       'number_of_dependants', 'marital_status', 'income', 'product_id',\n",
       "       'product_name', 'aisle_id', 'department_id', 'prices', 'order_id',\n",
       "       'order_number', 'orders_day_of_week', 'order_hour_of_day',\n",
       "       'days_since_prior_order', 'add_to_cart_order', 'reordered',\n",
       "       'price_label', 'busiest_day', 'busiest_days', 'busiest_period_of_day',\n",
       "       'max_order', 'loyalty_flag', 'avg_prices', 'spending_flag',\n",
       "       'median_order_freq', 'frequency_flag'],\n",
       "      dtype='object')"
      ]
     },
     "execution_count": 8,
     "metadata": {},
     "output_type": "execute_result"
    }
   ],
   "source": [
    "df_ords_prods_all.columns"
   ]
  },
  {
   "cell_type": "markdown",
   "id": "e5321016",
   "metadata": {},
   "source": [
    "# 03 Task Part 1"
   ]
  },
  {
   "cell_type": "markdown",
   "id": "e3a12cbb",
   "metadata": {},
   "source": [
    "## 3.1 dropping columns "
   ]
  },
  {
   "cell_type": "code",
   "execution_count": null,
   "id": "00f447be",
   "metadata": {},
   "outputs": [],
   "source": [
    "\n",
    "#dropping first and last name columns due to PII\n",
    "df_ords_prods_all = df_ords_prods_all.drop(columns = ['first'])"
   ]
  },
  {
   "cell_type": "code",
   "execution_count": 10,
   "id": "62dc1f64",
   "metadata": {},
   "outputs": [],
   "source": [
    "#dropping first and last name columns due to PII\n",
    "df_ords_prods_all = df_ords_prods_all.drop(columns = ['last'])"
   ]
  },
  {
   "cell_type": "code",
   "execution_count": 11,
   "id": "66893014",
   "metadata": {},
   "outputs": [
    {
     "name": "stdout",
     "output_type": "stream",
     "text": [
      "<class 'pandas.core.frame.DataFrame'>\n",
      "Int64Index: 30629741 entries, 0 to 30629740\n",
      "Data columns (total 30 columns):\n",
      " #   Column                  Dtype  \n",
      "---  ------                  -----  \n",
      " 0   user_id                 object \n",
      " 1   gender                  object \n",
      " 2   state                   object \n",
      " 3   age                     int64  \n",
      " 4   date_joined             object \n",
      " 5   number_of_dependants    int64  \n",
      " 6   marital_status          object \n",
      " 7   income                  int64  \n",
      " 8   product_id              int64  \n",
      " 9   product_name            object \n",
      " 10  aisle_id                int64  \n",
      " 11  department_id           int64  \n",
      " 12  prices                  float64\n",
      " 13  order_id                int64  \n",
      " 14  order_number            int64  \n",
      " 15  orders_day_of_week      int64  \n",
      " 16  order_hour_of_day       int64  \n",
      " 17  days_since_prior_order  float64\n",
      " 18  add_to_cart_order       int64  \n",
      " 19  reordered               int64  \n",
      " 20  price_label             object \n",
      " 21  busiest_day             object \n",
      " 22  busiest_days            object \n",
      " 23  busiest_period_of_day   object \n",
      " 24  max_order               int64  \n",
      " 25  loyalty_flag            object \n",
      " 26  avg_prices              float64\n",
      " 27  spending_flag           object \n",
      " 28  median_order_freq       float64\n",
      " 29  frequency_flag          object \n",
      "dtypes: float64(4), int64(13), object(13)\n",
      "memory usage: 7.1+ GB\n"
     ]
    }
   ],
   "source": [
    "#checking dropped columns\n",
    "df_ords_prods_all.info()"
   ]
  },
  {
   "cell_type": "markdown",
   "id": "8fc266ea",
   "metadata": {},
   "source": [
    "## 3.2 Creating a region flag"
   ]
  },
  {
   "cell_type": "code",
   "execution_count": 12,
   "id": "ae162dff",
   "metadata": {},
   "outputs": [],
   "source": [
    "#3 making a group/list of southern states\n",
    "states_south = ['Deleware', 'Maryland', 'District of Columbia', 'Virginia', 'West Virginia', 'North Carolina', 'South Carolina', 'Georgia', 'Florida', 'Kentucky', 'Tennessee', 'Mississippi', 'Alabama', 'Oklahoma', 'Texas', 'Arkansas', 'Louisiana']"
   ]
  },
  {
   "cell_type": "code",
   "execution_count": 13,
   "id": "7b846bc8",
   "metadata": {},
   "outputs": [],
   "source": [
    "#3 making a group/list of ne states\n",
    "states_ne = ['Maine','New Hampshire','Vermont','Massachusetts','Rhode Island','Connecticut','New York','Pennsylvania','New Jersey']"
   ]
  },
  {
   "cell_type": "code",
   "execution_count": 14,
   "id": "f6bf909d",
   "metadata": {},
   "outputs": [
    {
     "data": {
      "text/plain": [
       "['Maine',\n",
       " 'New Hampshire',\n",
       " 'Vermont',\n",
       " 'Massachusetts',\n",
       " 'Rhode Island',\n",
       " 'Connecticut',\n",
       " 'New York',\n",
       " 'Pennsylvania',\n",
       " 'New Jersey']"
      ]
     },
     "execution_count": 14,
     "metadata": {},
     "output_type": "execute_result"
    }
   ],
   "source": [
    "#3 checking the list\n",
    "states_ne"
   ]
  },
  {
   "cell_type": "code",
   "execution_count": 15,
   "id": "43950d32",
   "metadata": {},
   "outputs": [
    {
     "data": {
      "text/plain": [
       "['Deleware',\n",
       " 'Maryland',\n",
       " 'District of Columbia',\n",
       " 'Virginia',\n",
       " 'West Virginia',\n",
       " 'North Carolina',\n",
       " 'South Carolina',\n",
       " 'Georgia',\n",
       " 'Florida',\n",
       " 'Kentucky',\n",
       " 'Tennessee',\n",
       " 'Mississippi',\n",
       " 'Alabama',\n",
       " 'Oklahoma',\n",
       " 'Texas',\n",
       " 'Arkansas',\n",
       " 'Louisiana']"
      ]
     },
     "execution_count": 15,
     "metadata": {},
     "output_type": "execute_result"
    }
   ],
   "source": [
    "states_south"
   ]
  },
  {
   "cell_type": "code",
   "execution_count": 16,
   "id": "512fec42",
   "metadata": {},
   "outputs": [],
   "source": [
    "#3 making a group/list of weatern states\n",
    "states_west = ['Idaho','Montana','Wyoming','Nevada','Utah','Colorado','Arizona','New Mexico','Alaska','Washington','Oregon','California','Hawaii']"
   ]
  },
  {
   "cell_type": "code",
   "execution_count": 17,
   "id": "4fcf655f",
   "metadata": {},
   "outputs": [],
   "source": [
    "#3 making a group/list of midwest states\n",
    "states_mw = ['Wisconsin','Michigan','Illinois','Indiana','Ohio','North Dakota','South Dakota','Nebraska','Kansas','Minnesota','Iowa','Missouri']"
   ]
  },
  {
   "cell_type": "code",
   "execution_count": 18,
   "id": "35a33f52",
   "metadata": {},
   "outputs": [],
   "source": [
    "#3 using loc function to make a new region column\n",
    "df_ords_prods_all.loc[df_ords_prods_all['state'].isin(states_south), 'region'] = 'South'"
   ]
  },
  {
   "cell_type": "code",
   "execution_count": 19,
   "id": "e32fb777",
   "metadata": {},
   "outputs": [],
   "source": [
    "#3 using loc function to make a new region column\n",
    "df_ords_prods_all.loc[df_ords_prods_all['state'].isin(states_ne), 'region'] = 'Northeast'"
   ]
  },
  {
   "cell_type": "code",
   "execution_count": 20,
   "id": "5c3486de",
   "metadata": {},
   "outputs": [],
   "source": [
    "#3 using loc function to make a new region column\n",
    "df_ords_prods_all.loc[df_ords_prods_all['state'].isin(states_mw), 'region'] = 'Midwest'"
   ]
  },
  {
   "cell_type": "code",
   "execution_count": 21,
   "id": "d4cfec2a",
   "metadata": {},
   "outputs": [],
   "source": [
    "#3 using loc function to make a new region colum\n",
    "df_ords_prods_all.loc[df_ords_prods_all['state'].isin(states_west), 'region'] = 'West'"
   ]
  },
  {
   "cell_type": "code",
   "execution_count": 22,
   "id": "cd443a29",
   "metadata": {},
   "outputs": [
    {
     "data": {
      "text/html": [
       "<div>\n",
       "<style scoped>\n",
       "    .dataframe tbody tr th:only-of-type {\n",
       "        vertical-align: middle;\n",
       "    }\n",
       "\n",
       "    .dataframe tbody tr th {\n",
       "        vertical-align: top;\n",
       "    }\n",
       "\n",
       "    .dataframe thead th {\n",
       "        text-align: right;\n",
       "    }\n",
       "</style>\n",
       "<table border=\"1\" class=\"dataframe\">\n",
       "  <thead>\n",
       "    <tr style=\"text-align: right;\">\n",
       "      <th></th>\n",
       "      <th>user_id</th>\n",
       "      <th>gender</th>\n",
       "      <th>state</th>\n",
       "      <th>age</th>\n",
       "      <th>date_joined</th>\n",
       "      <th>number_of_dependants</th>\n",
       "      <th>marital_status</th>\n",
       "      <th>income</th>\n",
       "      <th>product_id</th>\n",
       "      <th>product_name</th>\n",
       "      <th>...</th>\n",
       "      <th>busiest_day</th>\n",
       "      <th>busiest_days</th>\n",
       "      <th>busiest_period_of_day</th>\n",
       "      <th>max_order</th>\n",
       "      <th>loyalty_flag</th>\n",
       "      <th>avg_prices</th>\n",
       "      <th>spending_flag</th>\n",
       "      <th>median_order_freq</th>\n",
       "      <th>frequency_flag</th>\n",
       "      <th>region</th>\n",
       "    </tr>\n",
       "  </thead>\n",
       "  <tbody>\n",
       "    <tr>\n",
       "      <th>0</th>\n",
       "      <td>26711</td>\n",
       "      <td>Female</td>\n",
       "      <td>Missouri</td>\n",
       "      <td>48</td>\n",
       "      <td>1/1/2017</td>\n",
       "      <td>3</td>\n",
       "      <td>married</td>\n",
       "      <td>165665</td>\n",
       "      <td>196</td>\n",
       "      <td>Soda</td>\n",
       "      <td>...</td>\n",
       "      <td>Regularly busy</td>\n",
       "      <td>Busiest days</td>\n",
       "      <td>Most Orders</td>\n",
       "      <td>8</td>\n",
       "      <td>New customer</td>\n",
       "      <td>7.988889</td>\n",
       "      <td>Low Spender</td>\n",
       "      <td>19.0</td>\n",
       "      <td>Regular customer</td>\n",
       "      <td>Midwest</td>\n",
       "    </tr>\n",
       "    <tr>\n",
       "      <th>1</th>\n",
       "      <td>26711</td>\n",
       "      <td>Female</td>\n",
       "      <td>Missouri</td>\n",
       "      <td>48</td>\n",
       "      <td>1/1/2017</td>\n",
       "      <td>3</td>\n",
       "      <td>married</td>\n",
       "      <td>165665</td>\n",
       "      <td>196</td>\n",
       "      <td>Soda</td>\n",
       "      <td>...</td>\n",
       "      <td>Regularly busy</td>\n",
       "      <td>Regularly busy</td>\n",
       "      <td>Most Orders</td>\n",
       "      <td>8</td>\n",
       "      <td>New customer</td>\n",
       "      <td>7.988889</td>\n",
       "      <td>Low Spender</td>\n",
       "      <td>19.0</td>\n",
       "      <td>Regular customer</td>\n",
       "      <td>Midwest</td>\n",
       "    </tr>\n",
       "    <tr>\n",
       "      <th>2</th>\n",
       "      <td>26711</td>\n",
       "      <td>Female</td>\n",
       "      <td>Missouri</td>\n",
       "      <td>48</td>\n",
       "      <td>1/1/2017</td>\n",
       "      <td>3</td>\n",
       "      <td>married</td>\n",
       "      <td>165665</td>\n",
       "      <td>196</td>\n",
       "      <td>Soda</td>\n",
       "      <td>...</td>\n",
       "      <td>Regularly busy</td>\n",
       "      <td>Busiest days</td>\n",
       "      <td>Most Orders</td>\n",
       "      <td>8</td>\n",
       "      <td>New customer</td>\n",
       "      <td>7.988889</td>\n",
       "      <td>Low Spender</td>\n",
       "      <td>19.0</td>\n",
       "      <td>Regular customer</td>\n",
       "      <td>Midwest</td>\n",
       "    </tr>\n",
       "    <tr>\n",
       "      <th>3</th>\n",
       "      <td>26711</td>\n",
       "      <td>Female</td>\n",
       "      <td>Missouri</td>\n",
       "      <td>48</td>\n",
       "      <td>1/1/2017</td>\n",
       "      <td>3</td>\n",
       "      <td>married</td>\n",
       "      <td>165665</td>\n",
       "      <td>6184</td>\n",
       "      <td>Clementines</td>\n",
       "      <td>...</td>\n",
       "      <td>Regularly busy</td>\n",
       "      <td>Regularly busy</td>\n",
       "      <td>Most Orders</td>\n",
       "      <td>8</td>\n",
       "      <td>New customer</td>\n",
       "      <td>7.988889</td>\n",
       "      <td>Low Spender</td>\n",
       "      <td>19.0</td>\n",
       "      <td>Regular customer</td>\n",
       "      <td>Midwest</td>\n",
       "    </tr>\n",
       "    <tr>\n",
       "      <th>4</th>\n",
       "      <td>26711</td>\n",
       "      <td>Female</td>\n",
       "      <td>Missouri</td>\n",
       "      <td>48</td>\n",
       "      <td>1/1/2017</td>\n",
       "      <td>3</td>\n",
       "      <td>married</td>\n",
       "      <td>165665</td>\n",
       "      <td>6184</td>\n",
       "      <td>Clementines</td>\n",
       "      <td>...</td>\n",
       "      <td>Regularly busy</td>\n",
       "      <td>Least busy</td>\n",
       "      <td>Most Orders</td>\n",
       "      <td>8</td>\n",
       "      <td>New customer</td>\n",
       "      <td>7.988889</td>\n",
       "      <td>Low Spender</td>\n",
       "      <td>19.0</td>\n",
       "      <td>Regular customer</td>\n",
       "      <td>Midwest</td>\n",
       "    </tr>\n",
       "    <tr>\n",
       "      <th>5</th>\n",
       "      <td>26711</td>\n",
       "      <td>Female</td>\n",
       "      <td>Missouri</td>\n",
       "      <td>48</td>\n",
       "      <td>1/1/2017</td>\n",
       "      <td>3</td>\n",
       "      <td>married</td>\n",
       "      <td>165665</td>\n",
       "      <td>6184</td>\n",
       "      <td>Clementines</td>\n",
       "      <td>...</td>\n",
       "      <td>Regularly busy</td>\n",
       "      <td>Busiest days</td>\n",
       "      <td>Average Orders</td>\n",
       "      <td>8</td>\n",
       "      <td>New customer</td>\n",
       "      <td>7.988889</td>\n",
       "      <td>Low Spender</td>\n",
       "      <td>19.0</td>\n",
       "      <td>Regular customer</td>\n",
       "      <td>Midwest</td>\n",
       "    </tr>\n",
       "    <tr>\n",
       "      <th>6</th>\n",
       "      <td>26711</td>\n",
       "      <td>Female</td>\n",
       "      <td>Missouri</td>\n",
       "      <td>48</td>\n",
       "      <td>1/1/2017</td>\n",
       "      <td>3</td>\n",
       "      <td>married</td>\n",
       "      <td>165665</td>\n",
       "      <td>6184</td>\n",
       "      <td>Clementines</td>\n",
       "      <td>...</td>\n",
       "      <td>Regularly busy</td>\n",
       "      <td>Busiest days</td>\n",
       "      <td>Most Orders</td>\n",
       "      <td>8</td>\n",
       "      <td>New customer</td>\n",
       "      <td>7.988889</td>\n",
       "      <td>Low Spender</td>\n",
       "      <td>19.0</td>\n",
       "      <td>Regular customer</td>\n",
       "      <td>Midwest</td>\n",
       "    </tr>\n",
       "    <tr>\n",
       "      <th>7</th>\n",
       "      <td>26711</td>\n",
       "      <td>Female</td>\n",
       "      <td>Missouri</td>\n",
       "      <td>48</td>\n",
       "      <td>1/1/2017</td>\n",
       "      <td>3</td>\n",
       "      <td>married</td>\n",
       "      <td>165665</td>\n",
       "      <td>6184</td>\n",
       "      <td>Clementines</td>\n",
       "      <td>...</td>\n",
       "      <td>Regularly busy</td>\n",
       "      <td>Busiest days</td>\n",
       "      <td>Average Orders</td>\n",
       "      <td>8</td>\n",
       "      <td>New customer</td>\n",
       "      <td>7.988889</td>\n",
       "      <td>Low Spender</td>\n",
       "      <td>19.0</td>\n",
       "      <td>Regular customer</td>\n",
       "      <td>Midwest</td>\n",
       "    </tr>\n",
       "    <tr>\n",
       "      <th>8</th>\n",
       "      <td>26711</td>\n",
       "      <td>Female</td>\n",
       "      <td>Missouri</td>\n",
       "      <td>48</td>\n",
       "      <td>1/1/2017</td>\n",
       "      <td>3</td>\n",
       "      <td>married</td>\n",
       "      <td>165665</td>\n",
       "      <td>6184</td>\n",
       "      <td>Clementines</td>\n",
       "      <td>...</td>\n",
       "      <td>Regularly busy</td>\n",
       "      <td>Regularly busy</td>\n",
       "      <td>Most Orders</td>\n",
       "      <td>8</td>\n",
       "      <td>New customer</td>\n",
       "      <td>7.988889</td>\n",
       "      <td>Low Spender</td>\n",
       "      <td>19.0</td>\n",
       "      <td>Regular customer</td>\n",
       "      <td>Midwest</td>\n",
       "    </tr>\n",
       "    <tr>\n",
       "      <th>9</th>\n",
       "      <td>26711</td>\n",
       "      <td>Female</td>\n",
       "      <td>Missouri</td>\n",
       "      <td>48</td>\n",
       "      <td>1/1/2017</td>\n",
       "      <td>3</td>\n",
       "      <td>married</td>\n",
       "      <td>165665</td>\n",
       "      <td>6184</td>\n",
       "      <td>Clementines</td>\n",
       "      <td>...</td>\n",
       "      <td>Regularly busy</td>\n",
       "      <td>Busiest days</td>\n",
       "      <td>Most Orders</td>\n",
       "      <td>8</td>\n",
       "      <td>New customer</td>\n",
       "      <td>7.988889</td>\n",
       "      <td>Low Spender</td>\n",
       "      <td>19.0</td>\n",
       "      <td>Regular customer</td>\n",
       "      <td>Midwest</td>\n",
       "    </tr>\n",
       "    <tr>\n",
       "      <th>10</th>\n",
       "      <td>26711</td>\n",
       "      <td>Female</td>\n",
       "      <td>Missouri</td>\n",
       "      <td>48</td>\n",
       "      <td>1/1/2017</td>\n",
       "      <td>3</td>\n",
       "      <td>married</td>\n",
       "      <td>165665</td>\n",
       "      <td>8617</td>\n",
       "      <td>Assorted Nuggets</td>\n",
       "      <td>...</td>\n",
       "      <td>Regularly busy</td>\n",
       "      <td>Busiest days</td>\n",
       "      <td>Most Orders</td>\n",
       "      <td>8</td>\n",
       "      <td>New customer</td>\n",
       "      <td>7.988889</td>\n",
       "      <td>Low Spender</td>\n",
       "      <td>19.0</td>\n",
       "      <td>Regular customer</td>\n",
       "      <td>Midwest</td>\n",
       "    </tr>\n",
       "    <tr>\n",
       "      <th>11</th>\n",
       "      <td>26711</td>\n",
       "      <td>Female</td>\n",
       "      <td>Missouri</td>\n",
       "      <td>48</td>\n",
       "      <td>1/1/2017</td>\n",
       "      <td>3</td>\n",
       "      <td>married</td>\n",
       "      <td>165665</td>\n",
       "      <td>38928</td>\n",
       "      <td>0% Greek Strained Yogurt</td>\n",
       "      <td>...</td>\n",
       "      <td>Regularly busy</td>\n",
       "      <td>Regularly busy</td>\n",
       "      <td>Most Orders</td>\n",
       "      <td>8</td>\n",
       "      <td>New customer</td>\n",
       "      <td>7.988889</td>\n",
       "      <td>Low Spender</td>\n",
       "      <td>19.0</td>\n",
       "      <td>Regular customer</td>\n",
       "      <td>Midwest</td>\n",
       "    </tr>\n",
       "    <tr>\n",
       "      <th>12</th>\n",
       "      <td>26711</td>\n",
       "      <td>Female</td>\n",
       "      <td>Missouri</td>\n",
       "      <td>48</td>\n",
       "      <td>1/1/2017</td>\n",
       "      <td>3</td>\n",
       "      <td>married</td>\n",
       "      <td>165665</td>\n",
       "      <td>38928</td>\n",
       "      <td>0% Greek Strained Yogurt</td>\n",
       "      <td>...</td>\n",
       "      <td>Regularly busy</td>\n",
       "      <td>Least busy</td>\n",
       "      <td>Most Orders</td>\n",
       "      <td>8</td>\n",
       "      <td>New customer</td>\n",
       "      <td>7.988889</td>\n",
       "      <td>Low Spender</td>\n",
       "      <td>19.0</td>\n",
       "      <td>Regular customer</td>\n",
       "      <td>Midwest</td>\n",
       "    </tr>\n",
       "    <tr>\n",
       "      <th>13</th>\n",
       "      <td>26711</td>\n",
       "      <td>Female</td>\n",
       "      <td>Missouri</td>\n",
       "      <td>48</td>\n",
       "      <td>1/1/2017</td>\n",
       "      <td>3</td>\n",
       "      <td>married</td>\n",
       "      <td>165665</td>\n",
       "      <td>38928</td>\n",
       "      <td>0% Greek Strained Yogurt</td>\n",
       "      <td>...</td>\n",
       "      <td>Regularly busy</td>\n",
       "      <td>Busiest days</td>\n",
       "      <td>Average Orders</td>\n",
       "      <td>8</td>\n",
       "      <td>New customer</td>\n",
       "      <td>7.988889</td>\n",
       "      <td>Low Spender</td>\n",
       "      <td>19.0</td>\n",
       "      <td>Regular customer</td>\n",
       "      <td>Midwest</td>\n",
       "    </tr>\n",
       "    <tr>\n",
       "      <th>14</th>\n",
       "      <td>26711</td>\n",
       "      <td>Female</td>\n",
       "      <td>Missouri</td>\n",
       "      <td>48</td>\n",
       "      <td>1/1/2017</td>\n",
       "      <td>3</td>\n",
       "      <td>married</td>\n",
       "      <td>165665</td>\n",
       "      <td>38928</td>\n",
       "      <td>0% Greek Strained Yogurt</td>\n",
       "      <td>...</td>\n",
       "      <td>Regularly busy</td>\n",
       "      <td>Busiest days</td>\n",
       "      <td>Average Orders</td>\n",
       "      <td>8</td>\n",
       "      <td>New customer</td>\n",
       "      <td>7.988889</td>\n",
       "      <td>Low Spender</td>\n",
       "      <td>19.0</td>\n",
       "      <td>Regular customer</td>\n",
       "      <td>Midwest</td>\n",
       "    </tr>\n",
       "    <tr>\n",
       "      <th>15</th>\n",
       "      <td>26711</td>\n",
       "      <td>Female</td>\n",
       "      <td>Missouri</td>\n",
       "      <td>48</td>\n",
       "      <td>1/1/2017</td>\n",
       "      <td>3</td>\n",
       "      <td>married</td>\n",
       "      <td>165665</td>\n",
       "      <td>38928</td>\n",
       "      <td>0% Greek Strained Yogurt</td>\n",
       "      <td>...</td>\n",
       "      <td>Regularly busy</td>\n",
       "      <td>Regularly busy</td>\n",
       "      <td>Most Orders</td>\n",
       "      <td>8</td>\n",
       "      <td>New customer</td>\n",
       "      <td>7.988889</td>\n",
       "      <td>Low Spender</td>\n",
       "      <td>19.0</td>\n",
       "      <td>Regular customer</td>\n",
       "      <td>Midwest</td>\n",
       "    </tr>\n",
       "    <tr>\n",
       "      <th>16</th>\n",
       "      <td>26711</td>\n",
       "      <td>Female</td>\n",
       "      <td>Missouri</td>\n",
       "      <td>48</td>\n",
       "      <td>1/1/2017</td>\n",
       "      <td>3</td>\n",
       "      <td>married</td>\n",
       "      <td>165665</td>\n",
       "      <td>38928</td>\n",
       "      <td>0% Greek Strained Yogurt</td>\n",
       "      <td>...</td>\n",
       "      <td>Regularly busy</td>\n",
       "      <td>Busiest days</td>\n",
       "      <td>Most Orders</td>\n",
       "      <td>8</td>\n",
       "      <td>New customer</td>\n",
       "      <td>7.988889</td>\n",
       "      <td>Low Spender</td>\n",
       "      <td>19.0</td>\n",
       "      <td>Regular customer</td>\n",
       "      <td>Midwest</td>\n",
       "    </tr>\n",
       "    <tr>\n",
       "      <th>17</th>\n",
       "      <td>26711</td>\n",
       "      <td>Female</td>\n",
       "      <td>Missouri</td>\n",
       "      <td>48</td>\n",
       "      <td>1/1/2017</td>\n",
       "      <td>3</td>\n",
       "      <td>married</td>\n",
       "      <td>165665</td>\n",
       "      <td>47402</td>\n",
       "      <td>Fuji Apples</td>\n",
       "      <td>...</td>\n",
       "      <td>Regularly busy</td>\n",
       "      <td>Least busy</td>\n",
       "      <td>Most Orders</td>\n",
       "      <td>8</td>\n",
       "      <td>New customer</td>\n",
       "      <td>7.988889</td>\n",
       "      <td>Low Spender</td>\n",
       "      <td>19.0</td>\n",
       "      <td>Regular customer</td>\n",
       "      <td>Midwest</td>\n",
       "    </tr>\n",
       "    <tr>\n",
       "      <th>18</th>\n",
       "      <td>33890</td>\n",
       "      <td>Female</td>\n",
       "      <td>New Mexico</td>\n",
       "      <td>36</td>\n",
       "      <td>1/1/2017</td>\n",
       "      <td>0</td>\n",
       "      <td>single</td>\n",
       "      <td>59285</td>\n",
       "      <td>196</td>\n",
       "      <td>Soda</td>\n",
       "      <td>...</td>\n",
       "      <td>Regularly busy</td>\n",
       "      <td>Regularly busy</td>\n",
       "      <td>Most Orders</td>\n",
       "      <td>12</td>\n",
       "      <td>Regular customer</td>\n",
       "      <td>7.057534</td>\n",
       "      <td>Low Spender</td>\n",
       "      <td>26.0</td>\n",
       "      <td>Non-frequent customer</td>\n",
       "      <td>West</td>\n",
       "    </tr>\n",
       "    <tr>\n",
       "      <th>19</th>\n",
       "      <td>33890</td>\n",
       "      <td>Female</td>\n",
       "      <td>New Mexico</td>\n",
       "      <td>36</td>\n",
       "      <td>1/1/2017</td>\n",
       "      <td>0</td>\n",
       "      <td>single</td>\n",
       "      <td>59285</td>\n",
       "      <td>196</td>\n",
       "      <td>Soda</td>\n",
       "      <td>...</td>\n",
       "      <td>Regularly busy</td>\n",
       "      <td>Busiest days</td>\n",
       "      <td>Average Orders</td>\n",
       "      <td>12</td>\n",
       "      <td>Regular customer</td>\n",
       "      <td>7.057534</td>\n",
       "      <td>Low Spender</td>\n",
       "      <td>26.0</td>\n",
       "      <td>Non-frequent customer</td>\n",
       "      <td>West</td>\n",
       "    </tr>\n",
       "  </tbody>\n",
       "</table>\n",
       "<p>20 rows × 31 columns</p>\n",
       "</div>"
      ],
      "text/plain": [
       "   user_id  gender       state  age date_joined  number_of_dependants  \\\n",
       "0    26711  Female    Missouri   48    1/1/2017                     3   \n",
       "1    26711  Female    Missouri   48    1/1/2017                     3   \n",
       "2    26711  Female    Missouri   48    1/1/2017                     3   \n",
       "3    26711  Female    Missouri   48    1/1/2017                     3   \n",
       "4    26711  Female    Missouri   48    1/1/2017                     3   \n",
       "5    26711  Female    Missouri   48    1/1/2017                     3   \n",
       "6    26711  Female    Missouri   48    1/1/2017                     3   \n",
       "7    26711  Female    Missouri   48    1/1/2017                     3   \n",
       "8    26711  Female    Missouri   48    1/1/2017                     3   \n",
       "9    26711  Female    Missouri   48    1/1/2017                     3   \n",
       "10   26711  Female    Missouri   48    1/1/2017                     3   \n",
       "11   26711  Female    Missouri   48    1/1/2017                     3   \n",
       "12   26711  Female    Missouri   48    1/1/2017                     3   \n",
       "13   26711  Female    Missouri   48    1/1/2017                     3   \n",
       "14   26711  Female    Missouri   48    1/1/2017                     3   \n",
       "15   26711  Female    Missouri   48    1/1/2017                     3   \n",
       "16   26711  Female    Missouri   48    1/1/2017                     3   \n",
       "17   26711  Female    Missouri   48    1/1/2017                     3   \n",
       "18   33890  Female  New Mexico   36    1/1/2017                     0   \n",
       "19   33890  Female  New Mexico   36    1/1/2017                     0   \n",
       "\n",
       "   marital_status  income  product_id              product_name  ...  \\\n",
       "0         married  165665         196                      Soda  ...   \n",
       "1         married  165665         196                      Soda  ...   \n",
       "2         married  165665         196                      Soda  ...   \n",
       "3         married  165665        6184               Clementines  ...   \n",
       "4         married  165665        6184               Clementines  ...   \n",
       "5         married  165665        6184               Clementines  ...   \n",
       "6         married  165665        6184               Clementines  ...   \n",
       "7         married  165665        6184               Clementines  ...   \n",
       "8         married  165665        6184               Clementines  ...   \n",
       "9         married  165665        6184               Clementines  ...   \n",
       "10        married  165665        8617          Assorted Nuggets  ...   \n",
       "11        married  165665       38928  0% Greek Strained Yogurt  ...   \n",
       "12        married  165665       38928  0% Greek Strained Yogurt  ...   \n",
       "13        married  165665       38928  0% Greek Strained Yogurt  ...   \n",
       "14        married  165665       38928  0% Greek Strained Yogurt  ...   \n",
       "15        married  165665       38928  0% Greek Strained Yogurt  ...   \n",
       "16        married  165665       38928  0% Greek Strained Yogurt  ...   \n",
       "17        married  165665       47402               Fuji Apples  ...   \n",
       "18         single   59285         196                      Soda  ...   \n",
       "19         single   59285         196                      Soda  ...   \n",
       "\n",
       "       busiest_day    busiest_days  busiest_period_of_day  max_order  \\\n",
       "0   Regularly busy    Busiest days            Most Orders          8   \n",
       "1   Regularly busy  Regularly busy            Most Orders          8   \n",
       "2   Regularly busy    Busiest days            Most Orders          8   \n",
       "3   Regularly busy  Regularly busy            Most Orders          8   \n",
       "4   Regularly busy      Least busy            Most Orders          8   \n",
       "5   Regularly busy    Busiest days         Average Orders          8   \n",
       "6   Regularly busy    Busiest days            Most Orders          8   \n",
       "7   Regularly busy    Busiest days         Average Orders          8   \n",
       "8   Regularly busy  Regularly busy            Most Orders          8   \n",
       "9   Regularly busy    Busiest days            Most Orders          8   \n",
       "10  Regularly busy    Busiest days            Most Orders          8   \n",
       "11  Regularly busy  Regularly busy            Most Orders          8   \n",
       "12  Regularly busy      Least busy            Most Orders          8   \n",
       "13  Regularly busy    Busiest days         Average Orders          8   \n",
       "14  Regularly busy    Busiest days         Average Orders          8   \n",
       "15  Regularly busy  Regularly busy            Most Orders          8   \n",
       "16  Regularly busy    Busiest days            Most Orders          8   \n",
       "17  Regularly busy      Least busy            Most Orders          8   \n",
       "18  Regularly busy  Regularly busy            Most Orders         12   \n",
       "19  Regularly busy    Busiest days         Average Orders         12   \n",
       "\n",
       "        loyalty_flag  avg_prices  spending_flag  median_order_freq  \\\n",
       "0       New customer    7.988889    Low Spender               19.0   \n",
       "1       New customer    7.988889    Low Spender               19.0   \n",
       "2       New customer    7.988889    Low Spender               19.0   \n",
       "3       New customer    7.988889    Low Spender               19.0   \n",
       "4       New customer    7.988889    Low Spender               19.0   \n",
       "5       New customer    7.988889    Low Spender               19.0   \n",
       "6       New customer    7.988889    Low Spender               19.0   \n",
       "7       New customer    7.988889    Low Spender               19.0   \n",
       "8       New customer    7.988889    Low Spender               19.0   \n",
       "9       New customer    7.988889    Low Spender               19.0   \n",
       "10      New customer    7.988889    Low Spender               19.0   \n",
       "11      New customer    7.988889    Low Spender               19.0   \n",
       "12      New customer    7.988889    Low Spender               19.0   \n",
       "13      New customer    7.988889    Low Spender               19.0   \n",
       "14      New customer    7.988889    Low Spender               19.0   \n",
       "15      New customer    7.988889    Low Spender               19.0   \n",
       "16      New customer    7.988889    Low Spender               19.0   \n",
       "17      New customer    7.988889    Low Spender               19.0   \n",
       "18  Regular customer    7.057534    Low Spender               26.0   \n",
       "19  Regular customer    7.057534    Low Spender               26.0   \n",
       "\n",
       "           frequency_flag   region  \n",
       "0        Regular customer  Midwest  \n",
       "1        Regular customer  Midwest  \n",
       "2        Regular customer  Midwest  \n",
       "3        Regular customer  Midwest  \n",
       "4        Regular customer  Midwest  \n",
       "5        Regular customer  Midwest  \n",
       "6        Regular customer  Midwest  \n",
       "7        Regular customer  Midwest  \n",
       "8        Regular customer  Midwest  \n",
       "9        Regular customer  Midwest  \n",
       "10       Regular customer  Midwest  \n",
       "11       Regular customer  Midwest  \n",
       "12       Regular customer  Midwest  \n",
       "13       Regular customer  Midwest  \n",
       "14       Regular customer  Midwest  \n",
       "15       Regular customer  Midwest  \n",
       "16       Regular customer  Midwest  \n",
       "17       Regular customer  Midwest  \n",
       "18  Non-frequent customer     West  \n",
       "19  Non-frequent customer     West  \n",
       "\n",
       "[20 rows x 31 columns]"
      ]
     },
     "execution_count": 22,
     "metadata": {},
     "output_type": "execute_result"
    }
   ],
   "source": [
    "#3 checking output\n",
    "df_ords_prods_all.head(20)"
   ]
  },
  {
   "cell_type": "code",
   "execution_count": 23,
   "id": "2fcf281d",
   "metadata": {},
   "outputs": [],
   "source": [
    "#3 checking to see what the spending habits look like across regions\n",
    "crosstab = pd.crosstab(df_ords_prods_all['region'], df_ords_prods_all['spending_flag'], dropna = False)"
   ]
  },
  {
   "cell_type": "code",
   "execution_count": 24,
   "id": "7ea7eadd",
   "metadata": {},
   "outputs": [
    {
     "data": {
      "text/html": [
       "<div>\n",
       "<style scoped>\n",
       "    .dataframe tbody tr th:only-of-type {\n",
       "        vertical-align: middle;\n",
       "    }\n",
       "\n",
       "    .dataframe tbody tr th {\n",
       "        vertical-align: top;\n",
       "    }\n",
       "\n",
       "    .dataframe thead th {\n",
       "        text-align: right;\n",
       "    }\n",
       "</style>\n",
       "<table border=\"1\" class=\"dataframe\">\n",
       "  <thead>\n",
       "    <tr style=\"text-align: right;\">\n",
       "      <th>spending_flag</th>\n",
       "      <th>High Spender</th>\n",
       "      <th>Low Spender</th>\n",
       "    </tr>\n",
       "    <tr>\n",
       "      <th>region</th>\n",
       "      <th></th>\n",
       "      <th></th>\n",
       "    </tr>\n",
       "  </thead>\n",
       "  <tbody>\n",
       "    <tr>\n",
       "      <th>Midwest</th>\n",
       "      <td>149817</td>\n",
       "      <td>7027107</td>\n",
       "    </tr>\n",
       "    <tr>\n",
       "      <th>Northeast</th>\n",
       "      <td>101420</td>\n",
       "      <td>5320605</td>\n",
       "    </tr>\n",
       "    <tr>\n",
       "      <th>South</th>\n",
       "      <td>180566</td>\n",
       "      <td>9419443</td>\n",
       "    </tr>\n",
       "    <tr>\n",
       "      <th>West</th>\n",
       "      <td>147803</td>\n",
       "      <td>7684007</td>\n",
       "    </tr>\n",
       "  </tbody>\n",
       "</table>\n",
       "</div>"
      ],
      "text/plain": [
       "spending_flag  High Spender  Low Spender\n",
       "region                                  \n",
       "Midwest              149817      7027107\n",
       "Northeast            101420      5320605\n",
       "South                180566      9419443\n",
       "West                 147803      7684007"
      ]
     },
     "execution_count": 24,
     "metadata": {},
     "output_type": "execute_result"
    }
   ],
   "source": [
    "#3 \n",
    "crosstab"
   ]
  },
  {
   "cell_type": "markdown",
   "id": "c8b06b09",
   "metadata": {},
   "source": [
    "# the south seems to have the most customers across the board"
   ]
  },
  {
   "cell_type": "markdown",
   "id": "6b38b485",
   "metadata": {},
   "source": [
    "## 3.3 making an exclusion flag for customers under 5 max orders"
   ]
  },
  {
   "cell_type": "code",
   "execution_count": 25,
   "id": "3804ab0b",
   "metadata": {},
   "outputs": [
    {
     "name": "stdout",
     "output_type": "stream",
     "text": [
      "<class 'pandas.core.frame.DataFrame'>\n",
      "Int64Index: 30629741 entries, 0 to 30629740\n",
      "Data columns (total 31 columns):\n",
      " #   Column                  Dtype  \n",
      "---  ------                  -----  \n",
      " 0   user_id                 object \n",
      " 1   gender                  object \n",
      " 2   state                   object \n",
      " 3   age                     int64  \n",
      " 4   date_joined             object \n",
      " 5   number_of_dependants    int64  \n",
      " 6   marital_status          object \n",
      " 7   income                  int64  \n",
      " 8   product_id              int64  \n",
      " 9   product_name            object \n",
      " 10  aisle_id                int64  \n",
      " 11  department_id           int64  \n",
      " 12  prices                  float64\n",
      " 13  order_id                int64  \n",
      " 14  order_number            int64  \n",
      " 15  orders_day_of_week      int64  \n",
      " 16  order_hour_of_day       int64  \n",
      " 17  days_since_prior_order  float64\n",
      " 18  add_to_cart_order       int64  \n",
      " 19  reordered               int64  \n",
      " 20  price_label             object \n",
      " 21  busiest_day             object \n",
      " 22  busiest_days            object \n",
      " 23  busiest_period_of_day   object \n",
      " 24  max_order               int64  \n",
      " 25  loyalty_flag            object \n",
      " 26  avg_prices              float64\n",
      " 27  spending_flag           object \n",
      " 28  median_order_freq       float64\n",
      " 29  frequency_flag          object \n",
      " 30  region                  object \n",
      "dtypes: float64(4), int64(13), object(14)\n",
      "memory usage: 7.3+ GB\n"
     ]
    }
   ],
   "source": [
    "#checking column names\n",
    "df_ords_prods_all.info()"
   ]
  },
  {
   "cell_type": "code",
   "execution_count": 26,
   "id": "64ad70d6",
   "metadata": {},
   "outputs": [],
   "source": [
    "#4making an exclusion flag for people who order less than 5 times\n",
    "df_ords_prods_all['exclusion_flag'] = df_ords_prods_all['max_order'].apply(lambda x: 'Yes' if x < 5 else 'No')"
   ]
  },
  {
   "cell_type": "code",
   "execution_count": 27,
   "id": "a666adf4",
   "metadata": {},
   "outputs": [
    {
     "data": {
      "text/html": [
       "<div>\n",
       "<style scoped>\n",
       "    .dataframe tbody tr th:only-of-type {\n",
       "        vertical-align: middle;\n",
       "    }\n",
       "\n",
       "    .dataframe tbody tr th {\n",
       "        vertical-align: top;\n",
       "    }\n",
       "\n",
       "    .dataframe thead th {\n",
       "        text-align: right;\n",
       "    }\n",
       "</style>\n",
       "<table border=\"1\" class=\"dataframe\">\n",
       "  <thead>\n",
       "    <tr style=\"text-align: right;\">\n",
       "      <th></th>\n",
       "      <th>user_id</th>\n",
       "      <th>gender</th>\n",
       "      <th>state</th>\n",
       "      <th>age</th>\n",
       "      <th>date_joined</th>\n",
       "      <th>number_of_dependants</th>\n",
       "      <th>marital_status</th>\n",
       "      <th>income</th>\n",
       "      <th>product_id</th>\n",
       "      <th>product_name</th>\n",
       "      <th>...</th>\n",
       "      <th>busiest_days</th>\n",
       "      <th>busiest_period_of_day</th>\n",
       "      <th>max_order</th>\n",
       "      <th>loyalty_flag</th>\n",
       "      <th>avg_prices</th>\n",
       "      <th>spending_flag</th>\n",
       "      <th>median_order_freq</th>\n",
       "      <th>frequency_flag</th>\n",
       "      <th>region</th>\n",
       "      <th>exclusion_flag</th>\n",
       "    </tr>\n",
       "  </thead>\n",
       "  <tbody>\n",
       "    <tr>\n",
       "      <th>0</th>\n",
       "      <td>26711</td>\n",
       "      <td>Female</td>\n",
       "      <td>Missouri</td>\n",
       "      <td>48</td>\n",
       "      <td>1/1/2017</td>\n",
       "      <td>3</td>\n",
       "      <td>married</td>\n",
       "      <td>165665</td>\n",
       "      <td>196</td>\n",
       "      <td>Soda</td>\n",
       "      <td>...</td>\n",
       "      <td>Busiest days</td>\n",
       "      <td>Most Orders</td>\n",
       "      <td>8</td>\n",
       "      <td>New customer</td>\n",
       "      <td>7.988889</td>\n",
       "      <td>Low Spender</td>\n",
       "      <td>19.0</td>\n",
       "      <td>Regular customer</td>\n",
       "      <td>Midwest</td>\n",
       "      <td>No</td>\n",
       "    </tr>\n",
       "    <tr>\n",
       "      <th>1</th>\n",
       "      <td>26711</td>\n",
       "      <td>Female</td>\n",
       "      <td>Missouri</td>\n",
       "      <td>48</td>\n",
       "      <td>1/1/2017</td>\n",
       "      <td>3</td>\n",
       "      <td>married</td>\n",
       "      <td>165665</td>\n",
       "      <td>196</td>\n",
       "      <td>Soda</td>\n",
       "      <td>...</td>\n",
       "      <td>Regularly busy</td>\n",
       "      <td>Most Orders</td>\n",
       "      <td>8</td>\n",
       "      <td>New customer</td>\n",
       "      <td>7.988889</td>\n",
       "      <td>Low Spender</td>\n",
       "      <td>19.0</td>\n",
       "      <td>Regular customer</td>\n",
       "      <td>Midwest</td>\n",
       "      <td>No</td>\n",
       "    </tr>\n",
       "    <tr>\n",
       "      <th>2</th>\n",
       "      <td>26711</td>\n",
       "      <td>Female</td>\n",
       "      <td>Missouri</td>\n",
       "      <td>48</td>\n",
       "      <td>1/1/2017</td>\n",
       "      <td>3</td>\n",
       "      <td>married</td>\n",
       "      <td>165665</td>\n",
       "      <td>196</td>\n",
       "      <td>Soda</td>\n",
       "      <td>...</td>\n",
       "      <td>Busiest days</td>\n",
       "      <td>Most Orders</td>\n",
       "      <td>8</td>\n",
       "      <td>New customer</td>\n",
       "      <td>7.988889</td>\n",
       "      <td>Low Spender</td>\n",
       "      <td>19.0</td>\n",
       "      <td>Regular customer</td>\n",
       "      <td>Midwest</td>\n",
       "      <td>No</td>\n",
       "    </tr>\n",
       "    <tr>\n",
       "      <th>3</th>\n",
       "      <td>26711</td>\n",
       "      <td>Female</td>\n",
       "      <td>Missouri</td>\n",
       "      <td>48</td>\n",
       "      <td>1/1/2017</td>\n",
       "      <td>3</td>\n",
       "      <td>married</td>\n",
       "      <td>165665</td>\n",
       "      <td>6184</td>\n",
       "      <td>Clementines</td>\n",
       "      <td>...</td>\n",
       "      <td>Regularly busy</td>\n",
       "      <td>Most Orders</td>\n",
       "      <td>8</td>\n",
       "      <td>New customer</td>\n",
       "      <td>7.988889</td>\n",
       "      <td>Low Spender</td>\n",
       "      <td>19.0</td>\n",
       "      <td>Regular customer</td>\n",
       "      <td>Midwest</td>\n",
       "      <td>No</td>\n",
       "    </tr>\n",
       "    <tr>\n",
       "      <th>4</th>\n",
       "      <td>26711</td>\n",
       "      <td>Female</td>\n",
       "      <td>Missouri</td>\n",
       "      <td>48</td>\n",
       "      <td>1/1/2017</td>\n",
       "      <td>3</td>\n",
       "      <td>married</td>\n",
       "      <td>165665</td>\n",
       "      <td>6184</td>\n",
       "      <td>Clementines</td>\n",
       "      <td>...</td>\n",
       "      <td>Least busy</td>\n",
       "      <td>Most Orders</td>\n",
       "      <td>8</td>\n",
       "      <td>New customer</td>\n",
       "      <td>7.988889</td>\n",
       "      <td>Low Spender</td>\n",
       "      <td>19.0</td>\n",
       "      <td>Regular customer</td>\n",
       "      <td>Midwest</td>\n",
       "      <td>No</td>\n",
       "    </tr>\n",
       "    <tr>\n",
       "      <th>5</th>\n",
       "      <td>26711</td>\n",
       "      <td>Female</td>\n",
       "      <td>Missouri</td>\n",
       "      <td>48</td>\n",
       "      <td>1/1/2017</td>\n",
       "      <td>3</td>\n",
       "      <td>married</td>\n",
       "      <td>165665</td>\n",
       "      <td>6184</td>\n",
       "      <td>Clementines</td>\n",
       "      <td>...</td>\n",
       "      <td>Busiest days</td>\n",
       "      <td>Average Orders</td>\n",
       "      <td>8</td>\n",
       "      <td>New customer</td>\n",
       "      <td>7.988889</td>\n",
       "      <td>Low Spender</td>\n",
       "      <td>19.0</td>\n",
       "      <td>Regular customer</td>\n",
       "      <td>Midwest</td>\n",
       "      <td>No</td>\n",
       "    </tr>\n",
       "    <tr>\n",
       "      <th>6</th>\n",
       "      <td>26711</td>\n",
       "      <td>Female</td>\n",
       "      <td>Missouri</td>\n",
       "      <td>48</td>\n",
       "      <td>1/1/2017</td>\n",
       "      <td>3</td>\n",
       "      <td>married</td>\n",
       "      <td>165665</td>\n",
       "      <td>6184</td>\n",
       "      <td>Clementines</td>\n",
       "      <td>...</td>\n",
       "      <td>Busiest days</td>\n",
       "      <td>Most Orders</td>\n",
       "      <td>8</td>\n",
       "      <td>New customer</td>\n",
       "      <td>7.988889</td>\n",
       "      <td>Low Spender</td>\n",
       "      <td>19.0</td>\n",
       "      <td>Regular customer</td>\n",
       "      <td>Midwest</td>\n",
       "      <td>No</td>\n",
       "    </tr>\n",
       "    <tr>\n",
       "      <th>7</th>\n",
       "      <td>26711</td>\n",
       "      <td>Female</td>\n",
       "      <td>Missouri</td>\n",
       "      <td>48</td>\n",
       "      <td>1/1/2017</td>\n",
       "      <td>3</td>\n",
       "      <td>married</td>\n",
       "      <td>165665</td>\n",
       "      <td>6184</td>\n",
       "      <td>Clementines</td>\n",
       "      <td>...</td>\n",
       "      <td>Busiest days</td>\n",
       "      <td>Average Orders</td>\n",
       "      <td>8</td>\n",
       "      <td>New customer</td>\n",
       "      <td>7.988889</td>\n",
       "      <td>Low Spender</td>\n",
       "      <td>19.0</td>\n",
       "      <td>Regular customer</td>\n",
       "      <td>Midwest</td>\n",
       "      <td>No</td>\n",
       "    </tr>\n",
       "    <tr>\n",
       "      <th>8</th>\n",
       "      <td>26711</td>\n",
       "      <td>Female</td>\n",
       "      <td>Missouri</td>\n",
       "      <td>48</td>\n",
       "      <td>1/1/2017</td>\n",
       "      <td>3</td>\n",
       "      <td>married</td>\n",
       "      <td>165665</td>\n",
       "      <td>6184</td>\n",
       "      <td>Clementines</td>\n",
       "      <td>...</td>\n",
       "      <td>Regularly busy</td>\n",
       "      <td>Most Orders</td>\n",
       "      <td>8</td>\n",
       "      <td>New customer</td>\n",
       "      <td>7.988889</td>\n",
       "      <td>Low Spender</td>\n",
       "      <td>19.0</td>\n",
       "      <td>Regular customer</td>\n",
       "      <td>Midwest</td>\n",
       "      <td>No</td>\n",
       "    </tr>\n",
       "    <tr>\n",
       "      <th>9</th>\n",
       "      <td>26711</td>\n",
       "      <td>Female</td>\n",
       "      <td>Missouri</td>\n",
       "      <td>48</td>\n",
       "      <td>1/1/2017</td>\n",
       "      <td>3</td>\n",
       "      <td>married</td>\n",
       "      <td>165665</td>\n",
       "      <td>6184</td>\n",
       "      <td>Clementines</td>\n",
       "      <td>...</td>\n",
       "      <td>Busiest days</td>\n",
       "      <td>Most Orders</td>\n",
       "      <td>8</td>\n",
       "      <td>New customer</td>\n",
       "      <td>7.988889</td>\n",
       "      <td>Low Spender</td>\n",
       "      <td>19.0</td>\n",
       "      <td>Regular customer</td>\n",
       "      <td>Midwest</td>\n",
       "      <td>No</td>\n",
       "    </tr>\n",
       "    <tr>\n",
       "      <th>10</th>\n",
       "      <td>26711</td>\n",
       "      <td>Female</td>\n",
       "      <td>Missouri</td>\n",
       "      <td>48</td>\n",
       "      <td>1/1/2017</td>\n",
       "      <td>3</td>\n",
       "      <td>married</td>\n",
       "      <td>165665</td>\n",
       "      <td>8617</td>\n",
       "      <td>Assorted Nuggets</td>\n",
       "      <td>...</td>\n",
       "      <td>Busiest days</td>\n",
       "      <td>Most Orders</td>\n",
       "      <td>8</td>\n",
       "      <td>New customer</td>\n",
       "      <td>7.988889</td>\n",
       "      <td>Low Spender</td>\n",
       "      <td>19.0</td>\n",
       "      <td>Regular customer</td>\n",
       "      <td>Midwest</td>\n",
       "      <td>No</td>\n",
       "    </tr>\n",
       "    <tr>\n",
       "      <th>11</th>\n",
       "      <td>26711</td>\n",
       "      <td>Female</td>\n",
       "      <td>Missouri</td>\n",
       "      <td>48</td>\n",
       "      <td>1/1/2017</td>\n",
       "      <td>3</td>\n",
       "      <td>married</td>\n",
       "      <td>165665</td>\n",
       "      <td>38928</td>\n",
       "      <td>0% Greek Strained Yogurt</td>\n",
       "      <td>...</td>\n",
       "      <td>Regularly busy</td>\n",
       "      <td>Most Orders</td>\n",
       "      <td>8</td>\n",
       "      <td>New customer</td>\n",
       "      <td>7.988889</td>\n",
       "      <td>Low Spender</td>\n",
       "      <td>19.0</td>\n",
       "      <td>Regular customer</td>\n",
       "      <td>Midwest</td>\n",
       "      <td>No</td>\n",
       "    </tr>\n",
       "    <tr>\n",
       "      <th>12</th>\n",
       "      <td>26711</td>\n",
       "      <td>Female</td>\n",
       "      <td>Missouri</td>\n",
       "      <td>48</td>\n",
       "      <td>1/1/2017</td>\n",
       "      <td>3</td>\n",
       "      <td>married</td>\n",
       "      <td>165665</td>\n",
       "      <td>38928</td>\n",
       "      <td>0% Greek Strained Yogurt</td>\n",
       "      <td>...</td>\n",
       "      <td>Least busy</td>\n",
       "      <td>Most Orders</td>\n",
       "      <td>8</td>\n",
       "      <td>New customer</td>\n",
       "      <td>7.988889</td>\n",
       "      <td>Low Spender</td>\n",
       "      <td>19.0</td>\n",
       "      <td>Regular customer</td>\n",
       "      <td>Midwest</td>\n",
       "      <td>No</td>\n",
       "    </tr>\n",
       "    <tr>\n",
       "      <th>13</th>\n",
       "      <td>26711</td>\n",
       "      <td>Female</td>\n",
       "      <td>Missouri</td>\n",
       "      <td>48</td>\n",
       "      <td>1/1/2017</td>\n",
       "      <td>3</td>\n",
       "      <td>married</td>\n",
       "      <td>165665</td>\n",
       "      <td>38928</td>\n",
       "      <td>0% Greek Strained Yogurt</td>\n",
       "      <td>...</td>\n",
       "      <td>Busiest days</td>\n",
       "      <td>Average Orders</td>\n",
       "      <td>8</td>\n",
       "      <td>New customer</td>\n",
       "      <td>7.988889</td>\n",
       "      <td>Low Spender</td>\n",
       "      <td>19.0</td>\n",
       "      <td>Regular customer</td>\n",
       "      <td>Midwest</td>\n",
       "      <td>No</td>\n",
       "    </tr>\n",
       "    <tr>\n",
       "      <th>14</th>\n",
       "      <td>26711</td>\n",
       "      <td>Female</td>\n",
       "      <td>Missouri</td>\n",
       "      <td>48</td>\n",
       "      <td>1/1/2017</td>\n",
       "      <td>3</td>\n",
       "      <td>married</td>\n",
       "      <td>165665</td>\n",
       "      <td>38928</td>\n",
       "      <td>0% Greek Strained Yogurt</td>\n",
       "      <td>...</td>\n",
       "      <td>Busiest days</td>\n",
       "      <td>Average Orders</td>\n",
       "      <td>8</td>\n",
       "      <td>New customer</td>\n",
       "      <td>7.988889</td>\n",
       "      <td>Low Spender</td>\n",
       "      <td>19.0</td>\n",
       "      <td>Regular customer</td>\n",
       "      <td>Midwest</td>\n",
       "      <td>No</td>\n",
       "    </tr>\n",
       "    <tr>\n",
       "      <th>15</th>\n",
       "      <td>26711</td>\n",
       "      <td>Female</td>\n",
       "      <td>Missouri</td>\n",
       "      <td>48</td>\n",
       "      <td>1/1/2017</td>\n",
       "      <td>3</td>\n",
       "      <td>married</td>\n",
       "      <td>165665</td>\n",
       "      <td>38928</td>\n",
       "      <td>0% Greek Strained Yogurt</td>\n",
       "      <td>...</td>\n",
       "      <td>Regularly busy</td>\n",
       "      <td>Most Orders</td>\n",
       "      <td>8</td>\n",
       "      <td>New customer</td>\n",
       "      <td>7.988889</td>\n",
       "      <td>Low Spender</td>\n",
       "      <td>19.0</td>\n",
       "      <td>Regular customer</td>\n",
       "      <td>Midwest</td>\n",
       "      <td>No</td>\n",
       "    </tr>\n",
       "    <tr>\n",
       "      <th>16</th>\n",
       "      <td>26711</td>\n",
       "      <td>Female</td>\n",
       "      <td>Missouri</td>\n",
       "      <td>48</td>\n",
       "      <td>1/1/2017</td>\n",
       "      <td>3</td>\n",
       "      <td>married</td>\n",
       "      <td>165665</td>\n",
       "      <td>38928</td>\n",
       "      <td>0% Greek Strained Yogurt</td>\n",
       "      <td>...</td>\n",
       "      <td>Busiest days</td>\n",
       "      <td>Most Orders</td>\n",
       "      <td>8</td>\n",
       "      <td>New customer</td>\n",
       "      <td>7.988889</td>\n",
       "      <td>Low Spender</td>\n",
       "      <td>19.0</td>\n",
       "      <td>Regular customer</td>\n",
       "      <td>Midwest</td>\n",
       "      <td>No</td>\n",
       "    </tr>\n",
       "    <tr>\n",
       "      <th>17</th>\n",
       "      <td>26711</td>\n",
       "      <td>Female</td>\n",
       "      <td>Missouri</td>\n",
       "      <td>48</td>\n",
       "      <td>1/1/2017</td>\n",
       "      <td>3</td>\n",
       "      <td>married</td>\n",
       "      <td>165665</td>\n",
       "      <td>47402</td>\n",
       "      <td>Fuji Apples</td>\n",
       "      <td>...</td>\n",
       "      <td>Least busy</td>\n",
       "      <td>Most Orders</td>\n",
       "      <td>8</td>\n",
       "      <td>New customer</td>\n",
       "      <td>7.988889</td>\n",
       "      <td>Low Spender</td>\n",
       "      <td>19.0</td>\n",
       "      <td>Regular customer</td>\n",
       "      <td>Midwest</td>\n",
       "      <td>No</td>\n",
       "    </tr>\n",
       "    <tr>\n",
       "      <th>18</th>\n",
       "      <td>33890</td>\n",
       "      <td>Female</td>\n",
       "      <td>New Mexico</td>\n",
       "      <td>36</td>\n",
       "      <td>1/1/2017</td>\n",
       "      <td>0</td>\n",
       "      <td>single</td>\n",
       "      <td>59285</td>\n",
       "      <td>196</td>\n",
       "      <td>Soda</td>\n",
       "      <td>...</td>\n",
       "      <td>Regularly busy</td>\n",
       "      <td>Most Orders</td>\n",
       "      <td>12</td>\n",
       "      <td>Regular customer</td>\n",
       "      <td>7.057534</td>\n",
       "      <td>Low Spender</td>\n",
       "      <td>26.0</td>\n",
       "      <td>Non-frequent customer</td>\n",
       "      <td>West</td>\n",
       "      <td>No</td>\n",
       "    </tr>\n",
       "    <tr>\n",
       "      <th>19</th>\n",
       "      <td>33890</td>\n",
       "      <td>Female</td>\n",
       "      <td>New Mexico</td>\n",
       "      <td>36</td>\n",
       "      <td>1/1/2017</td>\n",
       "      <td>0</td>\n",
       "      <td>single</td>\n",
       "      <td>59285</td>\n",
       "      <td>196</td>\n",
       "      <td>Soda</td>\n",
       "      <td>...</td>\n",
       "      <td>Busiest days</td>\n",
       "      <td>Average Orders</td>\n",
       "      <td>12</td>\n",
       "      <td>Regular customer</td>\n",
       "      <td>7.057534</td>\n",
       "      <td>Low Spender</td>\n",
       "      <td>26.0</td>\n",
       "      <td>Non-frequent customer</td>\n",
       "      <td>West</td>\n",
       "      <td>No</td>\n",
       "    </tr>\n",
       "  </tbody>\n",
       "</table>\n",
       "<p>20 rows × 32 columns</p>\n",
       "</div>"
      ],
      "text/plain": [
       "   user_id  gender       state  age date_joined  number_of_dependants  \\\n",
       "0    26711  Female    Missouri   48    1/1/2017                     3   \n",
       "1    26711  Female    Missouri   48    1/1/2017                     3   \n",
       "2    26711  Female    Missouri   48    1/1/2017                     3   \n",
       "3    26711  Female    Missouri   48    1/1/2017                     3   \n",
       "4    26711  Female    Missouri   48    1/1/2017                     3   \n",
       "5    26711  Female    Missouri   48    1/1/2017                     3   \n",
       "6    26711  Female    Missouri   48    1/1/2017                     3   \n",
       "7    26711  Female    Missouri   48    1/1/2017                     3   \n",
       "8    26711  Female    Missouri   48    1/1/2017                     3   \n",
       "9    26711  Female    Missouri   48    1/1/2017                     3   \n",
       "10   26711  Female    Missouri   48    1/1/2017                     3   \n",
       "11   26711  Female    Missouri   48    1/1/2017                     3   \n",
       "12   26711  Female    Missouri   48    1/1/2017                     3   \n",
       "13   26711  Female    Missouri   48    1/1/2017                     3   \n",
       "14   26711  Female    Missouri   48    1/1/2017                     3   \n",
       "15   26711  Female    Missouri   48    1/1/2017                     3   \n",
       "16   26711  Female    Missouri   48    1/1/2017                     3   \n",
       "17   26711  Female    Missouri   48    1/1/2017                     3   \n",
       "18   33890  Female  New Mexico   36    1/1/2017                     0   \n",
       "19   33890  Female  New Mexico   36    1/1/2017                     0   \n",
       "\n",
       "   marital_status  income  product_id              product_name  ...  \\\n",
       "0         married  165665         196                      Soda  ...   \n",
       "1         married  165665         196                      Soda  ...   \n",
       "2         married  165665         196                      Soda  ...   \n",
       "3         married  165665        6184               Clementines  ...   \n",
       "4         married  165665        6184               Clementines  ...   \n",
       "5         married  165665        6184               Clementines  ...   \n",
       "6         married  165665        6184               Clementines  ...   \n",
       "7         married  165665        6184               Clementines  ...   \n",
       "8         married  165665        6184               Clementines  ...   \n",
       "9         married  165665        6184               Clementines  ...   \n",
       "10        married  165665        8617          Assorted Nuggets  ...   \n",
       "11        married  165665       38928  0% Greek Strained Yogurt  ...   \n",
       "12        married  165665       38928  0% Greek Strained Yogurt  ...   \n",
       "13        married  165665       38928  0% Greek Strained Yogurt  ...   \n",
       "14        married  165665       38928  0% Greek Strained Yogurt  ...   \n",
       "15        married  165665       38928  0% Greek Strained Yogurt  ...   \n",
       "16        married  165665       38928  0% Greek Strained Yogurt  ...   \n",
       "17        married  165665       47402               Fuji Apples  ...   \n",
       "18         single   59285         196                      Soda  ...   \n",
       "19         single   59285         196                      Soda  ...   \n",
       "\n",
       "      busiest_days  busiest_period_of_day  max_order      loyalty_flag  \\\n",
       "0     Busiest days            Most Orders          8      New customer   \n",
       "1   Regularly busy            Most Orders          8      New customer   \n",
       "2     Busiest days            Most Orders          8      New customer   \n",
       "3   Regularly busy            Most Orders          8      New customer   \n",
       "4       Least busy            Most Orders          8      New customer   \n",
       "5     Busiest days         Average Orders          8      New customer   \n",
       "6     Busiest days            Most Orders          8      New customer   \n",
       "7     Busiest days         Average Orders          8      New customer   \n",
       "8   Regularly busy            Most Orders          8      New customer   \n",
       "9     Busiest days            Most Orders          8      New customer   \n",
       "10    Busiest days            Most Orders          8      New customer   \n",
       "11  Regularly busy            Most Orders          8      New customer   \n",
       "12      Least busy            Most Orders          8      New customer   \n",
       "13    Busiest days         Average Orders          8      New customer   \n",
       "14    Busiest days         Average Orders          8      New customer   \n",
       "15  Regularly busy            Most Orders          8      New customer   \n",
       "16    Busiest days            Most Orders          8      New customer   \n",
       "17      Least busy            Most Orders          8      New customer   \n",
       "18  Regularly busy            Most Orders         12  Regular customer   \n",
       "19    Busiest days         Average Orders         12  Regular customer   \n",
       "\n",
       "    avg_prices  spending_flag  median_order_freq         frequency_flag  \\\n",
       "0     7.988889    Low Spender               19.0       Regular customer   \n",
       "1     7.988889    Low Spender               19.0       Regular customer   \n",
       "2     7.988889    Low Spender               19.0       Regular customer   \n",
       "3     7.988889    Low Spender               19.0       Regular customer   \n",
       "4     7.988889    Low Spender               19.0       Regular customer   \n",
       "5     7.988889    Low Spender               19.0       Regular customer   \n",
       "6     7.988889    Low Spender               19.0       Regular customer   \n",
       "7     7.988889    Low Spender               19.0       Regular customer   \n",
       "8     7.988889    Low Spender               19.0       Regular customer   \n",
       "9     7.988889    Low Spender               19.0       Regular customer   \n",
       "10    7.988889    Low Spender               19.0       Regular customer   \n",
       "11    7.988889    Low Spender               19.0       Regular customer   \n",
       "12    7.988889    Low Spender               19.0       Regular customer   \n",
       "13    7.988889    Low Spender               19.0       Regular customer   \n",
       "14    7.988889    Low Spender               19.0       Regular customer   \n",
       "15    7.988889    Low Spender               19.0       Regular customer   \n",
       "16    7.988889    Low Spender               19.0       Regular customer   \n",
       "17    7.988889    Low Spender               19.0       Regular customer   \n",
       "18    7.057534    Low Spender               26.0  Non-frequent customer   \n",
       "19    7.057534    Low Spender               26.0  Non-frequent customer   \n",
       "\n",
       "     region  exclusion_flag  \n",
       "0   Midwest              No  \n",
       "1   Midwest              No  \n",
       "2   Midwest              No  \n",
       "3   Midwest              No  \n",
       "4   Midwest              No  \n",
       "5   Midwest              No  \n",
       "6   Midwest              No  \n",
       "7   Midwest              No  \n",
       "8   Midwest              No  \n",
       "9   Midwest              No  \n",
       "10  Midwest              No  \n",
       "11  Midwest              No  \n",
       "12  Midwest              No  \n",
       "13  Midwest              No  \n",
       "14  Midwest              No  \n",
       "15  Midwest              No  \n",
       "16  Midwest              No  \n",
       "17  Midwest              No  \n",
       "18     West              No  \n",
       "19     West              No  \n",
       "\n",
       "[20 rows x 32 columns]"
      ]
     },
     "execution_count": 27,
     "metadata": {},
     "output_type": "execute_result"
    }
   ],
   "source": [
    "#4checking the columns\n",
    "df_ords_prods_all.head(20)"
   ]
  },
  {
   "cell_type": "code",
   "execution_count": 28,
   "id": "5aa620c3",
   "metadata": {},
   "outputs": [],
   "source": [
    "#4making subset df excluding low activity customers\n",
    "df_low_activity_excluded = df_ords_prods_all[df_ords_prods_all['exclusion_flag']== 'No']"
   ]
  },
  {
   "cell_type": "code",
   "execution_count": 29,
   "id": "46ba3381",
   "metadata": {},
   "outputs": [
    {
     "data": {
      "text/plain": [
       "No     29270938\n",
       "Yes     1358803\n",
       "Name: exclusion_flag, dtype: int64"
      ]
     },
     "execution_count": 29,
     "metadata": {},
     "output_type": "execute_result"
    }
   ],
   "source": [
    "#4checking the count for the exclusion flag\n",
    "df_ords_prods_all['exclusion_flag'].value_counts(dropna = False)"
   ]
  },
  {
   "cell_type": "code",
   "execution_count": 30,
   "id": "472c75cd",
   "metadata": {},
   "outputs": [
    {
     "data": {
      "text/plain": [
       "(29270938, 32)"
      ]
     },
     "execution_count": 30,
     "metadata": {},
     "output_type": "execute_result"
    }
   ],
   "source": [
    "#4 seeing if the number matches in the new subset df\n",
    "df_low_activity_excluded.shape"
   ]
  },
  {
   "cell_type": "code",
   "execution_count": 31,
   "id": "c0d7c3ca",
   "metadata": {},
   "outputs": [],
   "source": [
    "#4 Export new data set to pkl\n",
    "\n",
    "df_low_activity_excluded.to_pickle(os.path.join(path, '02 Data','Prepared Data', 'low_activity_excluded.pkl'))"
   ]
  },
  {
   "cell_type": "markdown",
   "id": "8f85e593",
   "metadata": {},
   "source": [
    "## 3.4 creating an age flag"
   ]
  },
  {
   "cell_type": "code",
   "execution_count": 32,
   "id": "b974e0e4",
   "metadata": {},
   "outputs": [],
   "source": [
    "#creating an age flag\n",
    "df_ords_prods_all.loc[df_ords_prods_all['age']>65,'age_flag'] = 'Senior'"
   ]
  },
  {
   "cell_type": "code",
   "execution_count": 33,
   "id": "844590a7",
   "metadata": {},
   "outputs": [],
   "source": [
    "#creating an age flag\n",
    "df_ords_prods_all.loc[(df_ords_prods_all['age']<=65) & (df_ords_prods_all['age']>44),'age_flag'] = 'Middle Age'"
   ]
  },
  {
   "cell_type": "code",
   "execution_count": 34,
   "id": "d61ccfa4",
   "metadata": {},
   "outputs": [],
   "source": [
    "#creating an age flag\n",
    "df_ords_prods_all.loc[df_ords_prods_all['age']<=45,'age_flag'] = 'Young Adult'"
   ]
  },
  {
   "cell_type": "code",
   "execution_count": 35,
   "id": "63b185e6",
   "metadata": {},
   "outputs": [
    {
     "data": {
      "text/plain": [
       "Young Adult    13411301\n",
       "Middle Age      9573789\n",
       "Senior          7644651\n",
       "Name: age_flag, dtype: int64"
      ]
     },
     "execution_count": 35,
     "metadata": {},
     "output_type": "execute_result"
    }
   ],
   "source": [
    "#checking count\n",
    "df_ords_prods_all['age_flag'].value_counts(dropna = False)"
   ]
  },
  {
   "cell_type": "code",
   "execution_count": 36,
   "id": "35df0583",
   "metadata": {},
   "outputs": [
    {
     "data": {
      "image/png": "[encoded data removed]",
      "text/plain": [
       "<Figure size 640x480 with 1 Axes>"
      ]
     },
     "metadata": {},
     "output_type": "display_data"
    }
   ],
   "source": [
    "#making a bar chart showing customers by age bracket\n",
    "bar_age = df_ords_prods_all['age_flag'].value_counts().plot.bar()"
   ]
  },
  {
   "cell_type": "code",
   "execution_count": 37,
   "id": "f785c118",
   "metadata": {},
   "outputs": [],
   "source": [
    "#saving bar chart\n",
    "bar_age.figure.savefig(os.path.join(path, '04 Analysis','Visualizations', 'bar_age.png'))"
   ]
  },
  {
   "cell_type": "markdown",
   "id": "b2986ca8",
   "metadata": {},
   "source": [
    "## 3.5 Visualizations by department, region & loyalty"
   ]
  },
  {
   "cell_type": "code",
   "execution_count": 38,
   "id": "5def0521",
   "metadata": {},
   "outputs": [
    {
     "data": {
      "image/png": "[encoded data removed]",
      "text/plain": [
       "<Figure size 640x480 with 1 Axes>"
      ]
     },
     "metadata": {},
     "output_type": "display_data"
    }
   ],
   "source": [
    "#bar chart on dept _id purchases\n",
    "bar_dept = df_ords_prods_all['department_id'].value_counts().plot.bar()"
   ]
  },
  {
   "cell_type": "code",
   "execution_count": 41,
   "id": "c1b50df0",
   "metadata": {},
   "outputs": [],
   "source": [
    "department_names = {1: 'Frozen', 2: 'Other', 3: 'Bakery', 4: 'Produce',5: 'Alcohol', 6: 'International',7: 'Beverages', 8:'Pets',9:'Dry Goods Pasta',10: 'Bulk', 11: 'Personal Care', 12: 'Meat/Seafood', 13: 'Pantry', 14: 'Breakfast',15:'Canned Goods', 16: 'Dairy/Eggs', 17: 'Household', 18: ' Babies', 19:'Snacks',20:'Deli',21:'Missing'}"
   ]
  },
  {
   "cell_type": "code",
   "execution_count": 42,
   "id": "19a28163",
   "metadata": {},
   "outputs": [],
   "source": [
    "department_counts = df_ords_prods_all['department_id'].value_counts()"
   ]
  },
  {
   "cell_type": "code",
   "execution_count": 43,
   "id": "1c8dcb7b",
   "metadata": {},
   "outputs": [
    {
     "data": {
      "image/png": "[encoded data removed]",
      "text/plain": [
       "<Figure size 640x480 with 1 Axes>"
      ]
     },
     "metadata": {},
     "output_type": "display_data"
    }
   ],
   "source": [
    "ax = department_counts.plot.bar()\n",
    "ax.set_xticklabels([department_names.get(x, '') for x in department_counts.index])\n",
    "for i, v in enumerate(department_counts):\n",
    "    ax.text(i, v, str(v), ha='center', va='bottom')\n",
    "    plt.show()"
   ]
  },
  {
   "cell_type": "code",
   "execution_count": 44,
   "id": "60271b9a",
   "metadata": {},
   "outputs": [],
   "source": [
    "#saving bar chart for dept\n",
    "ax.figure.savefig(os.path.join(path, '04 Analysis','Visualizations', 'bar_dept.png'))"
   ]
  },
  {
   "cell_type": "code",
   "execution_count": 45,
   "id": "2962f353",
   "metadata": {},
   "outputs": [],
   "source": [
    "#trying to make a multi bar chart of dept and region\n",
    "region_department_counts = df_ords_prods_all.groupby(['department_id','region']).size().unstack(fill_value=0)"
   ]
  },
  {
   "cell_type": "code",
   "execution_count": 46,
   "id": "38398a95",
   "metadata": {},
   "outputs": [
    {
     "data": {
      "image/png": "[encoded data removed]",
      "text/plain": [
       "<Figure size 640x480 with 1 Axes>"
      ]
     },
     "metadata": {},
     "output_type": "display_data"
    }
   ],
   "source": [
    "#multi bar chart for region and dept\n",
    "reg_dept = region_department_counts.plot.bar(stacked=False)\n"
   ]
  },
  {
   "cell_type": "code",
   "execution_count": 47,
   "id": "5dc67bfc",
   "metadata": {},
   "outputs": [],
   "source": [
    "#saving bar chart for reg and dept\n",
    "reg_dept.figure.savefig(os.path.join(path, '04 Analysis','Visualizations', 'bar_reg_dept.png'))"
   ]
  },
  {
   "cell_type": "code",
   "execution_count": null,
   "id": "aa1fabc1",
   "metadata": {},
   "outputs": [],
   "source": []
  },
  {
   "cell_type": "code",
   "execution_count": 48,
   "id": "f28e83de",
   "metadata": {},
   "outputs": [],
   "source": [
    "#trying to make a stacked bar chart of dept and loyalty\n",
    "loyalty_department_counts = df_ords_prods_all.groupby(['department_id','loyalty_flag']).size().unstack(fill_value=0)"
   ]
  },
  {
   "cell_type": "code",
   "execution_count": 49,
   "id": "256c1515",
   "metadata": {},
   "outputs": [
    {
     "data": {
      "image/png": "[encoded data removed]",
      "text/plain": [
       "<Figure size 640x480 with 1 Axes>"
      ]
     },
     "metadata": {},
     "output_type": "display_data"
    }
   ],
   "source": [
    "#stacked bar chart for loyalty and dept\n",
    "loyal_dept = loyalty_department_counts.plot.bar(stacked=True)"
   ]
  },
  {
   "cell_type": "code",
   "execution_count": 50,
   "id": "a0f070a6",
   "metadata": {},
   "outputs": [],
   "source": [
    "#saving bar chart for loyalty and dept\n",
    "loyal_dept.figure.savefig(os.path.join(path, '04 Analysis','Visualizations', 'bar_loyal_dept.png'))"
   ]
  },
  {
   "cell_type": "markdown",
   "id": "1a4adf79",
   "metadata": {},
   "source": [
    "## 3.6 Loyalty Status"
   ]
  },
  {
   "cell_type": "code",
   "execution_count": 54,
   "id": "ca7d716d",
   "metadata": {},
   "outputs": [],
   "source": [
    "#grouping age and loyalty\n",
    "age_loyalty_counts = df_ords_prods_all.groupby(['age_flag','loyalty_flag']).size().unstack(fill_value=0)"
   ]
  },
  {
   "cell_type": "code",
   "execution_count": 55,
   "id": "d7bc6bd5",
   "metadata": {},
   "outputs": [
    {
     "data": {
      "image/png": "[encoded data removed]",
      "text/plain": [
       "<Figure size 640x480 with 1 Axes>"
      ]
     },
     "metadata": {},
     "output_type": "display_data"
    }
   ],
   "source": [
    "#bar for age and loyalty \n",
    "age_loyalty_counts = age_loyalty_counts.plot.bar(stacked=True )"
   ]
  },
  {
   "cell_type": "code",
   "execution_count": 56,
   "id": "065b56cb",
   "metadata": {},
   "outputs": [],
   "source": [
    "#saving bar for age and loyalty\n",
    "age_loyalty_counts.figure.savefig(os.path.join(path, '04 Analysis','Visualizations', 'age_loyalty.png'))"
   ]
  },
  {
   "cell_type": "code",
   "execution_count": 57,
   "id": "b82c46f6",
   "metadata": {},
   "outputs": [],
   "source": [
    "#grouping marital and loyalty\n",
    "marital_loyalty_counts = df_ords_prods_all.groupby(['marital_status','loyalty_flag']).size().unstack(fill_value=0)"
   ]
  },
  {
   "cell_type": "code",
   "execution_count": 58,
   "id": "ed386772",
   "metadata": {},
   "outputs": [
    {
     "data": {
      "image/png": "[encoded data removed]",
      "text/plain": [
       "<Figure size 640x480 with 1 Axes>"
      ]
     },
     "metadata": {},
     "output_type": "display_data"
    }
   ],
   "source": [
    "#bar for marital and loyalty\n",
    "marital_loyalty_counts = marital_loyalty_counts.plot.bar(stacked=True )"
   ]
  },
  {
   "cell_type": "code",
   "execution_count": 59,
   "id": "876a045b",
   "metadata": {},
   "outputs": [],
   "source": [
    "#saving bar for marital and loyalty\n",
    "marital_loyalty_counts.figure.savefig(os.path.join(path, '04 Analysis','Visualizations', 'marital_loyalty.png'))"
   ]
  },
  {
   "cell_type": "markdown",
   "id": "aac6ae18",
   "metadata": {},
   "source": [
    "## 3.7 Visualizations for Kids"
   ]
  },
  {
   "cell_type": "code",
   "execution_count": 60,
   "id": "61805ab1",
   "metadata": {},
   "outputs": [],
   "source": [
    "#making a group/list for kids\n",
    "kids = [1,2,3]"
   ]
  },
  {
   "cell_type": "code",
   "execution_count": 61,
   "id": "1325931c",
   "metadata": {},
   "outputs": [],
   "source": [
    "#making a group/list for no kids\n",
    "no_kids = [0]"
   ]
  },
  {
   "cell_type": "code",
   "execution_count": 62,
   "id": "e907a3d1",
   "metadata": {},
   "outputs": [],
   "source": [
    "#kids flag\n",
    "df_ords_prods_all.loc[df_ords_prods_all['number_of_dependants'].isin(kids), 'kids'] = 'has kids'"
   ]
  },
  {
   "cell_type": "code",
   "execution_count": 63,
   "id": "62e6c51c",
   "metadata": {},
   "outputs": [],
   "source": [
    "#kids flag\n",
    "df_ords_prods_all.loc[df_ords_prods_all['number_of_dependants'].isin(no_kids), 'kids'] = 'no kids'"
   ]
  },
  {
   "cell_type": "code",
   "execution_count": 64,
   "id": "feffb75e",
   "metadata": {},
   "outputs": [
    {
     "data": {
      "text/plain": [
       "has kids    22980043\n",
       "no kids      7649698\n",
       "Name: kids, dtype: int64"
      ]
     },
     "execution_count": 64,
     "metadata": {},
     "output_type": "execute_result"
    }
   ],
   "source": [
    "#checking count\n",
    "df_ords_prods_all['kids'].value_counts(dropna = False)"
   ]
  },
  {
   "cell_type": "code",
   "execution_count": 65,
   "id": "ae63eef9",
   "metadata": {},
   "outputs": [
    {
     "data": {
      "text/html": [
       "<div>\n",
       "<style scoped>\n",
       "    .dataframe tbody tr th:only-of-type {\n",
       "        vertical-align: middle;\n",
       "    }\n",
       "\n",
       "    .dataframe tbody tr th {\n",
       "        vertical-align: top;\n",
       "    }\n",
       "\n",
       "    .dataframe thead th {\n",
       "        text-align: right;\n",
       "    }\n",
       "</style>\n",
       "<table border=\"1\" class=\"dataframe\">\n",
       "  <thead>\n",
       "    <tr style=\"text-align: right;\">\n",
       "      <th></th>\n",
       "      <th>user_id</th>\n",
       "      <th>gender</th>\n",
       "      <th>state</th>\n",
       "      <th>age</th>\n",
       "      <th>date_joined</th>\n",
       "      <th>number_of_dependants</th>\n",
       "      <th>marital_status</th>\n",
       "      <th>income</th>\n",
       "      <th>product_id</th>\n",
       "      <th>product_name</th>\n",
       "      <th>...</th>\n",
       "      <th>max_order</th>\n",
       "      <th>loyalty_flag</th>\n",
       "      <th>avg_prices</th>\n",
       "      <th>spending_flag</th>\n",
       "      <th>median_order_freq</th>\n",
       "      <th>frequency_flag</th>\n",
       "      <th>region</th>\n",
       "      <th>exclusion_flag</th>\n",
       "      <th>age_flag</th>\n",
       "      <th>kids</th>\n",
       "    </tr>\n",
       "  </thead>\n",
       "  <tbody>\n",
       "    <tr>\n",
       "      <th>0</th>\n",
       "      <td>26711</td>\n",
       "      <td>Female</td>\n",
       "      <td>Missouri</td>\n",
       "      <td>48</td>\n",
       "      <td>1/1/2017</td>\n",
       "      <td>3</td>\n",
       "      <td>married</td>\n",
       "      <td>165665</td>\n",
       "      <td>196</td>\n",
       "      <td>Soda</td>\n",
       "      <td>...</td>\n",
       "      <td>8</td>\n",
       "      <td>New customer</td>\n",
       "      <td>7.988889</td>\n",
       "      <td>Low Spender</td>\n",
       "      <td>19.0</td>\n",
       "      <td>Regular customer</td>\n",
       "      <td>Midwest</td>\n",
       "      <td>No</td>\n",
       "      <td>Middle Age</td>\n",
       "      <td>has kids</td>\n",
       "    </tr>\n",
       "    <tr>\n",
       "      <th>1</th>\n",
       "      <td>26711</td>\n",
       "      <td>Female</td>\n",
       "      <td>Missouri</td>\n",
       "      <td>48</td>\n",
       "      <td>1/1/2017</td>\n",
       "      <td>3</td>\n",
       "      <td>married</td>\n",
       "      <td>165665</td>\n",
       "      <td>196</td>\n",
       "      <td>Soda</td>\n",
       "      <td>...</td>\n",
       "      <td>8</td>\n",
       "      <td>New customer</td>\n",
       "      <td>7.988889</td>\n",
       "      <td>Low Spender</td>\n",
       "      <td>19.0</td>\n",
       "      <td>Regular customer</td>\n",
       "      <td>Midwest</td>\n",
       "      <td>No</td>\n",
       "      <td>Middle Age</td>\n",
       "      <td>has kids</td>\n",
       "    </tr>\n",
       "    <tr>\n",
       "      <th>2</th>\n",
       "      <td>26711</td>\n",
       "      <td>Female</td>\n",
       "      <td>Missouri</td>\n",
       "      <td>48</td>\n",
       "      <td>1/1/2017</td>\n",
       "      <td>3</td>\n",
       "      <td>married</td>\n",
       "      <td>165665</td>\n",
       "      <td>196</td>\n",
       "      <td>Soda</td>\n",
       "      <td>...</td>\n",
       "      <td>8</td>\n",
       "      <td>New customer</td>\n",
       "      <td>7.988889</td>\n",
       "      <td>Low Spender</td>\n",
       "      <td>19.0</td>\n",
       "      <td>Regular customer</td>\n",
       "      <td>Midwest</td>\n",
       "      <td>No</td>\n",
       "      <td>Middle Age</td>\n",
       "      <td>has kids</td>\n",
       "    </tr>\n",
       "    <tr>\n",
       "      <th>3</th>\n",
       "      <td>26711</td>\n",
       "      <td>Female</td>\n",
       "      <td>Missouri</td>\n",
       "      <td>48</td>\n",
       "      <td>1/1/2017</td>\n",
       "      <td>3</td>\n",
       "      <td>married</td>\n",
       "      <td>165665</td>\n",
       "      <td>6184</td>\n",
       "      <td>Clementines</td>\n",
       "      <td>...</td>\n",
       "      <td>8</td>\n",
       "      <td>New customer</td>\n",
       "      <td>7.988889</td>\n",
       "      <td>Low Spender</td>\n",
       "      <td>19.0</td>\n",
       "      <td>Regular customer</td>\n",
       "      <td>Midwest</td>\n",
       "      <td>No</td>\n",
       "      <td>Middle Age</td>\n",
       "      <td>has kids</td>\n",
       "    </tr>\n",
       "    <tr>\n",
       "      <th>4</th>\n",
       "      <td>26711</td>\n",
       "      <td>Female</td>\n",
       "      <td>Missouri</td>\n",
       "      <td>48</td>\n",
       "      <td>1/1/2017</td>\n",
       "      <td>3</td>\n",
       "      <td>married</td>\n",
       "      <td>165665</td>\n",
       "      <td>6184</td>\n",
       "      <td>Clementines</td>\n",
       "      <td>...</td>\n",
       "      <td>8</td>\n",
       "      <td>New customer</td>\n",
       "      <td>7.988889</td>\n",
       "      <td>Low Spender</td>\n",
       "      <td>19.0</td>\n",
       "      <td>Regular customer</td>\n",
       "      <td>Midwest</td>\n",
       "      <td>No</td>\n",
       "      <td>Middle Age</td>\n",
       "      <td>has kids</td>\n",
       "    </tr>\n",
       "  </tbody>\n",
       "</table>\n",
       "<p>5 rows × 34 columns</p>\n",
       "</div>"
      ],
      "text/plain": [
       "  user_id  gender     state  age date_joined  number_of_dependants  \\\n",
       "0   26711  Female  Missouri   48    1/1/2017                     3   \n",
       "1   26711  Female  Missouri   48    1/1/2017                     3   \n",
       "2   26711  Female  Missouri   48    1/1/2017                     3   \n",
       "3   26711  Female  Missouri   48    1/1/2017                     3   \n",
       "4   26711  Female  Missouri   48    1/1/2017                     3   \n",
       "\n",
       "  marital_status  income  product_id product_name  ...  max_order  \\\n",
       "0        married  165665         196         Soda  ...          8   \n",
       "1        married  165665         196         Soda  ...          8   \n",
       "2        married  165665         196         Soda  ...          8   \n",
       "3        married  165665        6184  Clementines  ...          8   \n",
       "4        married  165665        6184  Clementines  ...          8   \n",
       "\n",
       "   loyalty_flag  avg_prices  spending_flag  median_order_freq  \\\n",
       "0  New customer    7.988889    Low Spender               19.0   \n",
       "1  New customer    7.988889    Low Spender               19.0   \n",
       "2  New customer    7.988889    Low Spender               19.0   \n",
       "3  New customer    7.988889    Low Spender               19.0   \n",
       "4  New customer    7.988889    Low Spender               19.0   \n",
       "\n",
       "     frequency_flag   region  exclusion_flag    age_flag      kids  \n",
       "0  Regular customer  Midwest              No  Middle Age  has kids  \n",
       "1  Regular customer  Midwest              No  Middle Age  has kids  \n",
       "2  Regular customer  Midwest              No  Middle Age  has kids  \n",
       "3  Regular customer  Midwest              No  Middle Age  has kids  \n",
       "4  Regular customer  Midwest              No  Middle Age  has kids  \n",
       "\n",
       "[5 rows x 34 columns]"
      ]
     },
     "execution_count": 65,
     "metadata": {},
     "output_type": "execute_result"
    }
   ],
   "source": [
    "df_ords_prods_all.head()"
   ]
  },
  {
   "cell_type": "code",
   "execution_count": 66,
   "id": "a7cd8d80",
   "metadata": {},
   "outputs": [
    {
     "data": {
      "image/png": "[encoded data removed]",
      "text/plain": [
       "<Figure size 640x480 with 1 Axes>"
      ]
     },
     "metadata": {},
     "output_type": "display_data"
    }
   ],
   "source": [
    "#bar chart showing customers with kids\n",
    "bar_kids = df_ords_prods_all['kids'].value_counts().sort_index().plot.bar()"
   ]
  },
  {
   "cell_type": "code",
   "execution_count": 67,
   "id": "063147af",
   "metadata": {},
   "outputs": [],
   "source": [
    "#saving bar for kids\n",
    "bar_kids.figure.savefig(os.path.join(path, '04 Analysis','Visualizations', 'bar_kids.png'))"
   ]
  },
  {
   "cell_type": "markdown",
   "id": "bac7cc99",
   "metadata": {},
   "source": [
    "## 3.8 Income Flag"
   ]
  },
  {
   "cell_type": "code",
   "execution_count": 70,
   "id": "dcce0816",
   "metadata": {},
   "outputs": [],
   "source": [
    "#creating an income  flag\n",
    "df_ords_prods_all.loc[df_ords_prods_all['income']>= 156000,'income_flag'] = 'high income'"
   ]
  },
  {
   "cell_type": "code",
   "execution_count": 71,
   "id": "7743184a",
   "metadata": {},
   "outputs": [],
   "source": [
    "#creating an income flag\n",
    "df_ords_prods_all.loc[(df_ords_prods_all['income']<=155999) & (df_ords_prods_all['income']>=52000),'income_flag'] = 'middle income'"
   ]
  },
  {
   "cell_type": "code",
   "execution_count": 72,
   "id": "299b5257",
   "metadata": {},
   "outputs": [],
   "source": [
    "#creating an income  flag\n",
    "df_ords_prods_all.loc[df_ords_prods_all['income'] <52000,'income_flag'] = 'low income'"
   ]
  },
  {
   "cell_type": "code",
   "execution_count": 73,
   "id": "c719fc5b",
   "metadata": {},
   "outputs": [
    {
     "data": {
      "image/png": "[encoded data removed]",
      "text/plain": [
       "<Figure size 640x480 with 1 Axes>"
      ]
     },
     "metadata": {},
     "output_type": "display_data"
    }
   ],
   "source": [
    "bar_income = df_ords_prods_all['income_flag'].value_counts().sort_index().plot.bar()"
   ]
  },
  {
   "cell_type": "code",
   "execution_count": 74,
   "id": "500b5b89",
   "metadata": {},
   "outputs": [],
   "source": [
    "#saving bar for income\n",
    "bar_income.figure.savefig(os.path.join(path, '04 Analysis','Visualizations', 'bar_income.png'))"
   ]
  },
  {
   "cell_type": "markdown",
   "id": "bcd2c1f3",
   "metadata": {},
   "source": [
    "## 3.9 Dept Visualizations"
   ]
  },
  {
   "cell_type": "code",
   "execution_count": 75,
   "id": "b3e6ffa5",
   "metadata": {},
   "outputs": [],
   "source": [
    "#trying to make a stacked bar chart of dept and age\n",
    "age_department_counts = df_ords_prods_all.groupby(['department_id','age_flag']).size().unstack(fill_value=0)"
   ]
  },
  {
   "cell_type": "code",
   "execution_count": 76,
   "id": "59ef51ef",
   "metadata": {},
   "outputs": [
    {
     "data": {
      "image/png": "[encoded data removed]",
      "text/plain": [
       "<Figure size 640x480 with 1 Axes>"
      ]
     },
     "metadata": {},
     "output_type": "display_data"
    }
   ],
   "source": [
    "#bar for dept and age\n",
    "age_department = age_department_counts.plot.bar(stacked=True )"
   ]
  },
  {
   "cell_type": "code",
   "execution_count": 77,
   "id": "89f8f577",
   "metadata": {},
   "outputs": [],
   "source": [
    "#saving bar for age and dept\n",
    "age_department.figure.savefig(os.path.join(path, '04 Analysis','Visualizations', 'bar_age_dept.png'))"
   ]
  },
  {
   "cell_type": "code",
   "execution_count": 78,
   "id": "68d511f4",
   "metadata": {},
   "outputs": [],
   "source": [
    "#trying to make a stacked bar chart of dept and kids\n",
    "kid_department_counts = df_ords_prods_all.groupby(['department_id','kids']).size().unstack(fill_value=0)"
   ]
  },
  {
   "cell_type": "code",
   "execution_count": 79,
   "id": "51e868f3",
   "metadata": {},
   "outputs": [
    {
     "data": {
      "image/png": "[encoded data removed]",
      "text/plain": [
       "<Figure size 640x480 with 1 Axes>"
      ]
     },
     "metadata": {},
     "output_type": "display_data"
    }
   ],
   "source": [
    "#bar for dept and kids\n",
    "kid_department = kid_department_counts.plot.bar(stacked=True )"
   ]
  },
  {
   "cell_type": "code",
   "execution_count": 80,
   "id": "7bcc1913",
   "metadata": {},
   "outputs": [],
   "source": [
    "#saving bar for kid and dept\n",
    "kid_department.figure.savefig(os.path.join(path, '04 Analysis','Visualizations', 'bar_kid_dept.png'))"
   ]
  },
  {
   "cell_type": "code",
   "execution_count": 81,
   "id": "ecbc3177",
   "metadata": {},
   "outputs": [],
   "source": [
    "#trying to make a stacked bar chart of dept and income\n",
    "income_department_counts = df_ords_prods_all.groupby(['department_id','income_flag']).size().unstack(fill_value=0)"
   ]
  },
  {
   "cell_type": "code",
   "execution_count": 82,
   "id": "76a2f06e",
   "metadata": {},
   "outputs": [
    {
     "data": {
      "image/png": "[encoded data removed]",
      "text/plain": [
       "<Figure size 640x480 with 1 Axes>"
      ]
     },
     "metadata": {},
     "output_type": "display_data"
    }
   ],
   "source": [
    "#bar for dept and income\n",
    "income_department = income_department_counts.plot.bar(stacked=True )"
   ]
  },
  {
   "cell_type": "code",
   "execution_count": 83,
   "id": "7703959b",
   "metadata": {},
   "outputs": [],
   "source": [
    "#saving bar for income and dept\n",
    "income_department.figure.savefig(os.path.join(path, '04 Analysis','Visualizations', 'bar_income_dept.png'))"
   ]
  },
  {
   "cell_type": "markdown",
   "id": "fdddb5fc",
   "metadata": {},
   "source": [
    "## 3.10 Region Visulizations"
   ]
  },
  {
   "cell_type": "code",
   "execution_count": 84,
   "id": "9f30cadc",
   "metadata": {},
   "outputs": [],
   "source": [
    "#trying to make a stacked bar chart of region and age\n",
    "region_age_counts = df_ords_prods_all.groupby(['region','age_flag']).size().unstack(fill_value=0)"
   ]
  },
  {
   "cell_type": "code",
   "execution_count": 85,
   "id": "0bc0779b",
   "metadata": {},
   "outputs": [
    {
     "data": {
      "image/png": "[encoded data removed]",
      "text/plain": [
       "<Figure size 640x480 with 1 Axes>"
      ]
     },
     "metadata": {},
     "output_type": "display_data"
    }
   ],
   "source": [
    "#bar for region and age\n",
    "region_age = region_age_counts.sort_index().plot.bar(stacked=True )"
   ]
  },
  {
   "cell_type": "code",
   "execution_count": 86,
   "id": "204d9061",
   "metadata": {},
   "outputs": [],
   "source": [
    "#saving bar for age and region\n",
    "region_age.figure.savefig(os.path.join(path, '04 Analysis','Visualizations', 'bar_region_age.png'))"
   ]
  },
  {
   "cell_type": "code",
   "execution_count": 87,
   "id": "e328ccaf",
   "metadata": {},
   "outputs": [],
   "source": [
    "#trying to make a stacked bar chart of region and kids\n",
    "region_kid_counts = df_ords_prods_all.groupby(['region','kids']).size().unstack(fill_value=0)"
   ]
  },
  {
   "cell_type": "code",
   "execution_count": 88,
   "id": "b49b11f6",
   "metadata": {},
   "outputs": [
    {
     "data": {
      "image/png": "[encoded data removed]",
      "text/plain": [
       "<Figure size 640x480 with 1 Axes>"
      ]
     },
     "metadata": {},
     "output_type": "display_data"
    }
   ],
   "source": [
    "#bar for region and kids\n",
    "region_kid = region_kid_counts.plot.bar(stacked=True )"
   ]
  },
  {
   "cell_type": "code",
   "execution_count": 89,
   "id": "dca379d5",
   "metadata": {},
   "outputs": [],
   "source": [
    "#saving bar for age and region\n",
    "region_kid.figure.savefig(os.path.join(path, '04 Analysis','Visualizations', 'bar_region_kid.png'))"
   ]
  },
  {
   "cell_type": "code",
   "execution_count": 90,
   "id": "87d635f1",
   "metadata": {},
   "outputs": [],
   "source": [
    "#trying to make a stacked bar chart of region and income\n",
    "region_income_counts = df_ords_prods_all.groupby(['region','income_flag']).size().unstack(fill_value=0)"
   ]
  },
  {
   "cell_type": "code",
   "execution_count": 91,
   "id": "d29faff1",
   "metadata": {},
   "outputs": [
    {
     "data": {
      "image/png": "[encoded data removed]",
      "text/plain": [
       "<Figure size 640x480 with 1 Axes>"
      ]
     },
     "metadata": {},
     "output_type": "display_data"
    }
   ],
   "source": [
    "#bar for region and income\n",
    "region_income = region_income_counts.plot.bar(stacked=True )"
   ]
  },
  {
   "cell_type": "code",
   "execution_count": 92,
   "id": "c30d6b45",
   "metadata": {},
   "outputs": [],
   "source": [
    "#saving bar for income and region\n",
    "region_income.figure.savefig(os.path.join(path, '04 Analysis','Visualizations', 'bar_region_income.png'))"
   ]
  },
  {
   "cell_type": "code",
   "execution_count": 93,
   "id": "b7e34c4c",
   "metadata": {},
   "outputs": [],
   "source": [
    "#trying to make a stacked bar chart of region and marital_status\n",
    "region_marital_counts = df_ords_prods_all.groupby(['region','marital_status']).size().unstack(fill_value=0)"
   ]
  },
  {
   "cell_type": "code",
   "execution_count": 94,
   "id": "188f3a53",
   "metadata": {},
   "outputs": [
    {
     "data": {
      "image/png": "[encoded data removed]",
      "text/plain": [
       "<Figure size 640x480 with 1 Axes>"
      ]
     },
     "metadata": {},
     "output_type": "display_data"
    }
   ],
   "source": [
    "#bar for region and marital status\n",
    "region_marital = region_marital_counts.plot.bar(stacked=True )"
   ]
  },
  {
   "cell_type": "code",
   "execution_count": 95,
   "id": "4b2b02b0",
   "metadata": {},
   "outputs": [],
   "source": [
    "#saving bar for marital and region\n",
    "region_marital.figure.savefig(os.path.join(path, '04 Analysis','Visualizations', 'bar_region_marital.png'))"
   ]
  },
  {
   "cell_type": "code",
   "execution_count": 96,
   "id": "a66203d7",
   "metadata": {},
   "outputs": [],
   "source": [
    "#trying to make a stacked bar chart of dept and marital_status\n",
    "dept_marital_counts = df_ords_prods_all.groupby(['department_id','marital_status']).size().unstack(fill_value=0)"
   ]
  },
  {
   "cell_type": "markdown",
   "id": "0b14d133",
   "metadata": {},
   "source": [
    "## 3.11 Marital Status"
   ]
  },
  {
   "cell_type": "code",
   "execution_count": 97,
   "id": "7acb4802",
   "metadata": {},
   "outputs": [
    {
     "data": {
      "image/png": "[encoded data removed]",
      "text/plain": [
       "<Figure size 640x480 with 1 Axes>"
      ]
     },
     "metadata": {},
     "output_type": "display_data"
    }
   ],
   "source": [
    "#bar for dept and marital status\n",
    "dept_marital = dept_marital_counts.plot.bar(stacked=True )"
   ]
  },
  {
   "cell_type": "code",
   "execution_count": 98,
   "id": "ffadd6ab",
   "metadata": {},
   "outputs": [],
   "source": [
    "#saving bar for marital and dept\n",
    "dept_marital.figure.savefig(os.path.join(path, '04 Analysis','Visualizations', 'bar_dept_marital.png'))"
   ]
  },
  {
   "cell_type": "code",
   "execution_count": 99,
   "id": "d62d9917",
   "metadata": {},
   "outputs": [
    {
     "data": {
      "image/png": "[encoded data removed]",
      "text/plain": [
       "<Figure size 640x480 with 1 Axes>"
      ]
     },
     "metadata": {},
     "output_type": "display_data"
    }
   ],
   "source": [
    "#bar chart for marital status\n",
    "bar_marital = df_ords_prods_all['marital_status'].value_counts().sort_index().plot.bar()"
   ]
  },
  {
   "cell_type": "code",
   "execution_count": 100,
   "id": "cf5686ad",
   "metadata": {},
   "outputs": [],
   "source": [
    "#saving bar for marital \n",
    "bar_marital.figure.savefig(os.path.join(path, '04 Analysis','Visualizations', 'bar_marital.png'))"
   ]
  },
  {
   "cell_type": "markdown",
   "id": "242c9388",
   "metadata": {},
   "source": [
    "## 3.12 Spending and age"
   ]
  },
  {
   "cell_type": "code",
   "execution_count": 101,
   "id": "7871427b",
   "metadata": {},
   "outputs": [],
   "source": [
    "#trying to make a stacked bar chart of spending_flag and age\n",
    "spending_age_counts = df_ords_prods_all.groupby(['age_flag','spending_flag']).size().unstack(fill_value=0)"
   ]
  },
  {
   "cell_type": "code",
   "execution_count": 102,
   "id": "4fc2979a",
   "metadata": {},
   "outputs": [
    {
     "data": {
      "image/png": "[encoded data removed]",
      "text/plain": [
       "<Figure size 640x480 with 1 Axes>"
      ]
     },
     "metadata": {},
     "output_type": "display_data"
    }
   ],
   "source": [
    "#trying to make a stacked bar chart of spending and age\n",
    "\n",
    "spending_age = spending_age_counts.plot.bar(stacked=False )"
   ]
  },
  {
   "cell_type": "markdown",
   "id": "6b232684",
   "metadata": {},
   "source": [
    "## 3.13 Day of week visualizations"
   ]
  },
  {
   "cell_type": "code",
   "execution_count": 108,
   "id": "1497cbfd",
   "metadata": {},
   "outputs": [],
   "source": [
    "#trying to make a stacked bar chart of dow and age\n",
    "dow_age_counts = df_ords_prods_all.groupby(['orders_day_of_week','age_flag']).size().unstack(fill_value=0)"
   ]
  },
  {
   "cell_type": "code",
   "execution_count": 109,
   "id": "f60acfb3",
   "metadata": {},
   "outputs": [
    {
     "data": {
      "image/png": "[encoded data removed]",
      "text/plain": [
       "<Figure size 640x480 with 1 Axes>"
      ]
     },
     "metadata": {},
     "output_type": "display_data"
    }
   ],
   "source": [
    "#bar chart for dow and age\n",
    "dow_age = dow_age_counts.plot.bar(stacked=False )"
   ]
  },
  {
   "cell_type": "code",
   "execution_count": 111,
   "id": "af01c7b6",
   "metadata": {},
   "outputs": [],
   "source": [
    "#saving bar for dow and age\n",
    "dow_age.figure.savefig(os.path.join(path, '04 Analysis','Visualizations', 'bar_dow_age.png'))"
   ]
  },
  {
   "cell_type": "code",
   "execution_count": 107,
   "id": "3bfc4ab8",
   "metadata": {},
   "outputs": [
    {
     "name": "stdout",
     "output_type": "stream",
     "text": [
      "<class 'pandas.core.frame.DataFrame'>\n",
      "Int64Index: 30629741 entries, 0 to 30629740\n",
      "Data columns (total 35 columns):\n",
      " #   Column                  Dtype  \n",
      "---  ------                  -----  \n",
      " 0   user_id                 object \n",
      " 1   gender                  object \n",
      " 2   state                   object \n",
      " 3   age                     int64  \n",
      " 4   date_joined             object \n",
      " 5   number_of_dependants    int64  \n",
      " 6   marital_status          object \n",
      " 7   income                  int64  \n",
      " 8   product_id              int64  \n",
      " 9   product_name            object \n",
      " 10  aisle_id                int64  \n",
      " 11  department_id           int64  \n",
      " 12  prices                  float64\n",
      " 13  order_id                int64  \n",
      " 14  order_number            int64  \n",
      " 15  orders_day_of_week      int64  \n",
      " 16  order_hour_of_day       int64  \n",
      " 17  days_since_prior_order  float64\n",
      " 18  add_to_cart_order       int64  \n",
      " 19  reordered               int64  \n",
      " 20  price_label             object \n",
      " 21  busiest_day             object \n",
      " 22  busiest_days            object \n",
      " 23  busiest_period_of_day   object \n",
      " 24  max_order               int64  \n",
      " 25  loyalty_flag            object \n",
      " 26  avg_prices              float64\n",
      " 27  spending_flag           object \n",
      " 28  median_order_freq       float64\n",
      " 29  frequency_flag          object \n",
      " 30  region                  object \n",
      " 31  exclusion_flag          object \n",
      " 32  age_flag                object \n",
      " 33  kids                    object \n",
      " 34  income_flag             object \n",
      "dtypes: float64(4), int64(13), object(18)\n",
      "memory usage: 8.2+ GB\n"
     ]
    }
   ],
   "source": [
    "df_ords_prods_all.info()"
   ]
  },
  {
   "cell_type": "code",
   "execution_count": 112,
   "id": "2e7e25ee",
   "metadata": {},
   "outputs": [],
   "source": [
    "#trying to make a stacked bar chart of dow and marital\n",
    "dow_marital_counts = df_ords_prods_all.groupby(['orders_day_of_week','marital_status']).size().unstack(fill_value=0)"
   ]
  },
  {
   "cell_type": "code",
   "execution_count": 113,
   "id": "b8322fea",
   "metadata": {},
   "outputs": [
    {
     "data": {
      "image/png": "[encoded data removed]",
      "text/plain": [
       "<Figure size 640x480 with 1 Axes>"
      ]
     },
     "metadata": {},
     "output_type": "display_data"
    }
   ],
   "source": [
    "#bar chart for dow and age\n",
    "dow_marital = dow_marital_counts.plot.bar(stacked=False )"
   ]
  },
  {
   "cell_type": "code",
   "execution_count": 114,
   "id": "c7f1dec6",
   "metadata": {},
   "outputs": [],
   "source": [
    "#saving bar for dow and marital\n",
    "dow_marital.figure.savefig(os.path.join(path, '04 Analysis','Visualizations', 'bar_dow_marital.png'))"
   ]
  },
  {
   "cell_type": "code",
   "execution_count": 115,
   "id": "4da49c46",
   "metadata": {},
   "outputs": [],
   "source": [
    "#trying to make a stacked bar chart of dow and kids\n",
    "dow_kid_counts = df_ords_prods_all.groupby(['orders_day_of_week','kids']).size().unstack(fill_value=0)"
   ]
  },
  {
   "cell_type": "code",
   "execution_count": 116,
   "id": "d0604145",
   "metadata": {},
   "outputs": [
    {
     "data": {
      "image/png": "[encoded data removed]",
      "text/plain": [
       "<Figure size 640x480 with 1 Axes>"
      ]
     },
     "metadata": {},
     "output_type": "display_data"
    }
   ],
   "source": [
    "#bar chart for dow and kids\n",
    "dow_kid = dow_kid_counts.plot.bar(stacked=False )"
   ]
  },
  {
   "cell_type": "code",
   "execution_count": 117,
   "id": "6516ea61",
   "metadata": {},
   "outputs": [],
   "source": [
    "#saving bar for dow and kids\n",
    "dow_kid.figure.savefig(os.path.join(path, '04 Analysis','Visualizations', 'bar_dow_kid.png'))"
   ]
  },
  {
   "cell_type": "code",
   "execution_count": 118,
   "id": "227fe59d",
   "metadata": {},
   "outputs": [],
   "source": [
    "#trying to make a stacked bar chart of dow and income\n",
    "dow_income_counts = df_ords_prods_all.groupby(['orders_day_of_week','income_flag']).size().unstack(fill_value=0)"
   ]
  },
  {
   "cell_type": "code",
   "execution_count": 119,
   "id": "933ef04b",
   "metadata": {},
   "outputs": [
    {
     "data": {
      "image/png": "[encoded data removed]",
      "text/plain": [
       "<Figure size 640x480 with 1 Axes>"
      ]
     },
     "metadata": {},
     "output_type": "display_data"
    }
   ],
   "source": [
    "#bar chart for dow and income\n",
    "dow_income = dow_income_counts.plot.bar(stacked=False )"
   ]
  },
  {
   "cell_type": "code",
   "execution_count": 132,
   "id": "09a587b6",
   "metadata": {},
   "outputs": [],
   "source": [
    "#saving bar for dow and income\n",
    "dow_income.figure.savefig(os.path.join(path, '04 Analysis','Visualizations', 'bar_dow_income.png'))"
   ]
  },
  {
   "cell_type": "markdown",
   "id": "b884e57d",
   "metadata": {},
   "source": [
    "## 3.14 Aggregations"
   ]
  },
  {
   "cell_type": "code",
   "execution_count": 123,
   "id": "c7747966",
   "metadata": {},
   "outputs": [
    {
     "data": {
      "text/html": [
       "<div>\n",
       "<style scoped>\n",
       "    .dataframe tbody tr th:only-of-type {\n",
       "        vertical-align: middle;\n",
       "    }\n",
       "\n",
       "    .dataframe tbody tr th {\n",
       "        vertical-align: top;\n",
       "    }\n",
       "\n",
       "    .dataframe thead tr th {\n",
       "        text-align: left;\n",
       "    }\n",
       "\n",
       "    .dataframe thead tr:last-of-type th {\n",
       "        text-align: right;\n",
       "    }\n",
       "</style>\n",
       "<table border=\"1\" class=\"dataframe\">\n",
       "  <thead>\n",
       "    <tr>\n",
       "      <th></th>\n",
       "      <th colspan=\"3\" halign=\"left\">prices</th>\n",
       "    </tr>\n",
       "    <tr>\n",
       "      <th></th>\n",
       "      <th>mean</th>\n",
       "      <th>min</th>\n",
       "      <th>max</th>\n",
       "    </tr>\n",
       "    <tr>\n",
       "      <th>age_flag</th>\n",
       "      <th></th>\n",
       "      <th></th>\n",
       "      <th></th>\n",
       "    </tr>\n",
       "  </thead>\n",
       "  <tbody>\n",
       "    <tr>\n",
       "      <th>Middle Age</th>\n",
       "      <td>7.791384</td>\n",
       "      <td>1.0</td>\n",
       "      <td>25.0</td>\n",
       "    </tr>\n",
       "    <tr>\n",
       "      <th>Senior</th>\n",
       "      <td>7.794917</td>\n",
       "      <td>1.0</td>\n",
       "      <td>25.0</td>\n",
       "    </tr>\n",
       "    <tr>\n",
       "      <th>Young Adult</th>\n",
       "      <td>7.790584</td>\n",
       "      <td>1.0</td>\n",
       "      <td>25.0</td>\n",
       "    </tr>\n",
       "  </tbody>\n",
       "</table>\n",
       "</div>"
      ],
      "text/plain": [
       "               prices           \n",
       "                 mean  min   max\n",
       "age_flag                        \n",
       "Middle Age   7.791384  1.0  25.0\n",
       "Senior       7.794917  1.0  25.0\n",
       "Young Adult  7.790584  1.0  25.0"
      ]
     },
     "execution_count": 123,
     "metadata": {},
     "output_type": "execute_result"
    }
   ],
   "source": [
    "# running aggregations on customer profiles by expenditure\n",
    "df_ords_prods_all.groupby('age_flag').agg({'prices': ['mean', 'min', 'max']})"
   ]
  },
  {
   "cell_type": "code",
   "execution_count": 124,
   "id": "b5e8f69e",
   "metadata": {},
   "outputs": [
    {
     "data": {
      "text/html": [
       "<div>\n",
       "<style scoped>\n",
       "    .dataframe tbody tr th:only-of-type {\n",
       "        vertical-align: middle;\n",
       "    }\n",
       "\n",
       "    .dataframe tbody tr th {\n",
       "        vertical-align: top;\n",
       "    }\n",
       "\n",
       "    .dataframe thead tr th {\n",
       "        text-align: left;\n",
       "    }\n",
       "\n",
       "    .dataframe thead tr:last-of-type th {\n",
       "        text-align: right;\n",
       "    }\n",
       "</style>\n",
       "<table border=\"1\" class=\"dataframe\">\n",
       "  <thead>\n",
       "    <tr>\n",
       "      <th></th>\n",
       "      <th colspan=\"3\" halign=\"left\">prices</th>\n",
       "    </tr>\n",
       "    <tr>\n",
       "      <th></th>\n",
       "      <th>mean</th>\n",
       "      <th>min</th>\n",
       "      <th>max</th>\n",
       "    </tr>\n",
       "    <tr>\n",
       "      <th>kids</th>\n",
       "      <th></th>\n",
       "      <th></th>\n",
       "      <th></th>\n",
       "    </tr>\n",
       "  </thead>\n",
       "  <tbody>\n",
       "    <tr>\n",
       "      <th>has kids</th>\n",
       "      <td>7.792702</td>\n",
       "      <td>1.0</td>\n",
       "      <td>25.0</td>\n",
       "    </tr>\n",
       "    <tr>\n",
       "      <th>no kids</th>\n",
       "      <td>7.789555</td>\n",
       "      <td>1.0</td>\n",
       "      <td>25.0</td>\n",
       "    </tr>\n",
       "  </tbody>\n",
       "</table>\n",
       "</div>"
      ],
      "text/plain": [
       "            prices           \n",
       "              mean  min   max\n",
       "kids                         \n",
       "has kids  7.792702  1.0  25.0\n",
       "no kids   7.789555  1.0  25.0"
      ]
     },
     "execution_count": 124,
     "metadata": {},
     "output_type": "execute_result"
    }
   ],
   "source": [
    "# running aggregations on customer profiles by expenditure\n",
    "df_ords_prods_all.groupby('kids').agg({'prices': ['mean', 'min', 'max']})"
   ]
  },
  {
   "cell_type": "code",
   "execution_count": 125,
   "id": "b65d6973",
   "metadata": {},
   "outputs": [
    {
     "data": {
      "text/html": [
       "<div>\n",
       "<style scoped>\n",
       "    .dataframe tbody tr th:only-of-type {\n",
       "        vertical-align: middle;\n",
       "    }\n",
       "\n",
       "    .dataframe tbody tr th {\n",
       "        vertical-align: top;\n",
       "    }\n",
       "\n",
       "    .dataframe thead tr th {\n",
       "        text-align: left;\n",
       "    }\n",
       "\n",
       "    .dataframe thead tr:last-of-type th {\n",
       "        text-align: right;\n",
       "    }\n",
       "</style>\n",
       "<table border=\"1\" class=\"dataframe\">\n",
       "  <thead>\n",
       "    <tr>\n",
       "      <th></th>\n",
       "      <th colspan=\"3\" halign=\"left\">prices</th>\n",
       "    </tr>\n",
       "    <tr>\n",
       "      <th></th>\n",
       "      <th>mean</th>\n",
       "      <th>min</th>\n",
       "      <th>max</th>\n",
       "    </tr>\n",
       "    <tr>\n",
       "      <th>income_flag</th>\n",
       "      <th></th>\n",
       "      <th></th>\n",
       "      <th></th>\n",
       "    </tr>\n",
       "  </thead>\n",
       "  <tbody>\n",
       "    <tr>\n",
       "      <th>high income</th>\n",
       "      <td>7.943462</td>\n",
       "      <td>1.0</td>\n",
       "      <td>25.0</td>\n",
       "    </tr>\n",
       "    <tr>\n",
       "      <th>low income</th>\n",
       "      <td>6.743844</td>\n",
       "      <td>1.0</td>\n",
       "      <td>25.0</td>\n",
       "    </tr>\n",
       "    <tr>\n",
       "      <th>middle income</th>\n",
       "      <td>7.932774</td>\n",
       "      <td>1.0</td>\n",
       "      <td>25.0</td>\n",
       "    </tr>\n",
       "  </tbody>\n",
       "</table>\n",
       "</div>"
      ],
      "text/plain": [
       "                 prices           \n",
       "                   mean  min   max\n",
       "income_flag                       \n",
       "high income    7.943462  1.0  25.0\n",
       "low income     6.743844  1.0  25.0\n",
       "middle income  7.932774  1.0  25.0"
      ]
     },
     "execution_count": 125,
     "metadata": {},
     "output_type": "execute_result"
    }
   ],
   "source": [
    "# running aggregations on customer profiles by expenditure\n",
    "df_ords_prods_all.groupby('income_flag').agg({'prices': ['mean', 'min', 'max']})"
   ]
  },
  {
   "cell_type": "code",
   "execution_count": 126,
   "id": "c94d4fd4",
   "metadata": {},
   "outputs": [
    {
     "data": {
      "text/html": [
       "<div>\n",
       "<style scoped>\n",
       "    .dataframe tbody tr th:only-of-type {\n",
       "        vertical-align: middle;\n",
       "    }\n",
       "\n",
       "    .dataframe tbody tr th {\n",
       "        vertical-align: top;\n",
       "    }\n",
       "\n",
       "    .dataframe thead tr th {\n",
       "        text-align: left;\n",
       "    }\n",
       "\n",
       "    .dataframe thead tr:last-of-type th {\n",
       "        text-align: right;\n",
       "    }\n",
       "</style>\n",
       "<table border=\"1\" class=\"dataframe\">\n",
       "  <thead>\n",
       "    <tr>\n",
       "      <th></th>\n",
       "      <th colspan=\"3\" halign=\"left\">prices</th>\n",
       "    </tr>\n",
       "    <tr>\n",
       "      <th></th>\n",
       "      <th>mean</th>\n",
       "      <th>min</th>\n",
       "      <th>max</th>\n",
       "    </tr>\n",
       "    <tr>\n",
       "      <th>marital_status</th>\n",
       "      <th></th>\n",
       "      <th></th>\n",
       "      <th></th>\n",
       "    </tr>\n",
       "  </thead>\n",
       "  <tbody>\n",
       "    <tr>\n",
       "      <th>divorced/widowed</th>\n",
       "      <td>7.801055</td>\n",
       "      <td>1.0</td>\n",
       "      <td>25.0</td>\n",
       "    </tr>\n",
       "    <tr>\n",
       "      <th>living with parents and siblings</th>\n",
       "      <td>7.806768</td>\n",
       "      <td>1.0</td>\n",
       "      <td>25.0</td>\n",
       "    </tr>\n",
       "    <tr>\n",
       "      <th>married</th>\n",
       "      <td>7.791740</td>\n",
       "      <td>1.0</td>\n",
       "      <td>25.0</td>\n",
       "    </tr>\n",
       "    <tr>\n",
       "      <th>single</th>\n",
       "      <td>7.783529</td>\n",
       "      <td>1.0</td>\n",
       "      <td>25.0</td>\n",
       "    </tr>\n",
       "  </tbody>\n",
       "</table>\n",
       "</div>"
      ],
      "text/plain": [
       "                                    prices           \n",
       "                                      mean  min   max\n",
       "marital_status                                       \n",
       "divorced/widowed                  7.801055  1.0  25.0\n",
       "living with parents and siblings  7.806768  1.0  25.0\n",
       "married                           7.791740  1.0  25.0\n",
       "single                            7.783529  1.0  25.0"
      ]
     },
     "execution_count": 126,
     "metadata": {},
     "output_type": "execute_result"
    }
   ],
   "source": [
    "# running aggregations on customer profiles by expenditure\n",
    "df_ords_prods_all.groupby('marital_status').agg({'prices': ['mean', 'min', 'max']})"
   ]
  },
  {
   "cell_type": "code",
   "execution_count": 127,
   "id": "881cd1ce",
   "metadata": {},
   "outputs": [
    {
     "data": {
      "text/html": [
       "<div>\n",
       "<style scoped>\n",
       "    .dataframe tbody tr th:only-of-type {\n",
       "        vertical-align: middle;\n",
       "    }\n",
       "\n",
       "    .dataframe tbody tr th {\n",
       "        vertical-align: top;\n",
       "    }\n",
       "\n",
       "    .dataframe thead tr th {\n",
       "        text-align: left;\n",
       "    }\n",
       "\n",
       "    .dataframe thead tr:last-of-type th {\n",
       "        text-align: right;\n",
       "    }\n",
       "</style>\n",
       "<table border=\"1\" class=\"dataframe\">\n",
       "  <thead>\n",
       "    <tr>\n",
       "      <th></th>\n",
       "      <th colspan=\"3\" halign=\"left\">days_since_prior_order</th>\n",
       "    </tr>\n",
       "    <tr>\n",
       "      <th></th>\n",
       "      <th>mean</th>\n",
       "      <th>min</th>\n",
       "      <th>max</th>\n",
       "    </tr>\n",
       "    <tr>\n",
       "      <th>age_flag</th>\n",
       "      <th></th>\n",
       "      <th></th>\n",
       "      <th></th>\n",
       "    </tr>\n",
       "  </thead>\n",
       "  <tbody>\n",
       "    <tr>\n",
       "      <th>Middle Age</th>\n",
       "      <td>10.408511</td>\n",
       "      <td>0.0</td>\n",
       "      <td>30.0</td>\n",
       "    </tr>\n",
       "    <tr>\n",
       "      <th>Senior</th>\n",
       "      <td>10.368798</td>\n",
       "      <td>0.0</td>\n",
       "      <td>30.0</td>\n",
       "    </tr>\n",
       "    <tr>\n",
       "      <th>Young Adult</th>\n",
       "      <td>10.408470</td>\n",
       "      <td>0.0</td>\n",
       "      <td>30.0</td>\n",
       "    </tr>\n",
       "  </tbody>\n",
       "</table>\n",
       "</div>"
      ],
      "text/plain": [
       "            days_since_prior_order           \n",
       "                              mean  min   max\n",
       "age_flag                                     \n",
       "Middle Age               10.408511  0.0  30.0\n",
       "Senior                   10.368798  0.0  30.0\n",
       "Young Adult              10.408470  0.0  30.0"
      ]
     },
     "execution_count": 127,
     "metadata": {},
     "output_type": "execute_result"
    }
   ],
   "source": [
    "# running aggregations on customer profiles byfrequency \n",
    "df_ords_prods_all.groupby('age_flag').agg({'days_since_prior_order': ['mean', 'min', 'max']})"
   ]
  },
  {
   "cell_type": "code",
   "execution_count": 128,
   "id": "5c7d7d79",
   "metadata": {},
   "outputs": [
    {
     "data": {
      "text/html": [
       "<div>\n",
       "<style scoped>\n",
       "    .dataframe tbody tr th:only-of-type {\n",
       "        vertical-align: middle;\n",
       "    }\n",
       "\n",
       "    .dataframe tbody tr th {\n",
       "        vertical-align: top;\n",
       "    }\n",
       "\n",
       "    .dataframe thead tr th {\n",
       "        text-align: left;\n",
       "    }\n",
       "\n",
       "    .dataframe thead tr:last-of-type th {\n",
       "        text-align: right;\n",
       "    }\n",
       "</style>\n",
       "<table border=\"1\" class=\"dataframe\">\n",
       "  <thead>\n",
       "    <tr>\n",
       "      <th></th>\n",
       "      <th colspan=\"3\" halign=\"left\">days_since_prior_order</th>\n",
       "    </tr>\n",
       "    <tr>\n",
       "      <th></th>\n",
       "      <th>mean</th>\n",
       "      <th>min</th>\n",
       "      <th>max</th>\n",
       "    </tr>\n",
       "    <tr>\n",
       "      <th>kids</th>\n",
       "      <th></th>\n",
       "      <th></th>\n",
       "      <th></th>\n",
       "    </tr>\n",
       "  </thead>\n",
       "  <tbody>\n",
       "    <tr>\n",
       "      <th>has kids</th>\n",
       "      <td>10.406284</td>\n",
       "      <td>0.0</td>\n",
       "      <td>30.0</td>\n",
       "    </tr>\n",
       "    <tr>\n",
       "      <th>no kids</th>\n",
       "      <td>10.375442</td>\n",
       "      <td>0.0</td>\n",
       "      <td>30.0</td>\n",
       "    </tr>\n",
       "  </tbody>\n",
       "</table>\n",
       "</div>"
      ],
      "text/plain": [
       "         days_since_prior_order           \n",
       "                           mean  min   max\n",
       "kids                                      \n",
       "has kids              10.406284  0.0  30.0\n",
       "no kids               10.375442  0.0  30.0"
      ]
     },
     "execution_count": 128,
     "metadata": {},
     "output_type": "execute_result"
    }
   ],
   "source": [
    "# running aggregations on customer profiles byfrequency \n",
    "df_ords_prods_all.groupby('kids').agg({'days_since_prior_order': ['mean', 'min', 'max']})"
   ]
  },
  {
   "cell_type": "code",
   "execution_count": 129,
   "id": "5d712544",
   "metadata": {},
   "outputs": [
    {
     "data": {
      "text/html": [
       "<div>\n",
       "<style scoped>\n",
       "    .dataframe tbody tr th:only-of-type {\n",
       "        vertical-align: middle;\n",
       "    }\n",
       "\n",
       "    .dataframe tbody tr th {\n",
       "        vertical-align: top;\n",
       "    }\n",
       "\n",
       "    .dataframe thead tr th {\n",
       "        text-align: left;\n",
       "    }\n",
       "\n",
       "    .dataframe thead tr:last-of-type th {\n",
       "        text-align: right;\n",
       "    }\n",
       "</style>\n",
       "<table border=\"1\" class=\"dataframe\">\n",
       "  <thead>\n",
       "    <tr>\n",
       "      <th></th>\n",
       "      <th colspan=\"3\" halign=\"left\">days_since_prior_order</th>\n",
       "    </tr>\n",
       "    <tr>\n",
       "      <th></th>\n",
       "      <th>mean</th>\n",
       "      <th>min</th>\n",
       "      <th>max</th>\n",
       "    </tr>\n",
       "    <tr>\n",
       "      <th>income_flag</th>\n",
       "      <th></th>\n",
       "      <th></th>\n",
       "      <th></th>\n",
       "    </tr>\n",
       "  </thead>\n",
       "  <tbody>\n",
       "    <tr>\n",
       "      <th>high income</th>\n",
       "      <td>10.273898</td>\n",
       "      <td>0.0</td>\n",
       "      <td>30.0</td>\n",
       "    </tr>\n",
       "    <tr>\n",
       "      <th>low income</th>\n",
       "      <td>10.745740</td>\n",
       "      <td>0.0</td>\n",
       "      <td>30.0</td>\n",
       "    </tr>\n",
       "    <tr>\n",
       "      <th>middle income</th>\n",
       "      <td>10.360486</td>\n",
       "      <td>0.0</td>\n",
       "      <td>30.0</td>\n",
       "    </tr>\n",
       "  </tbody>\n",
       "</table>\n",
       "</div>"
      ],
      "text/plain": [
       "              days_since_prior_order           \n",
       "                                mean  min   max\n",
       "income_flag                                    \n",
       "high income                10.273898  0.0  30.0\n",
       "low income                 10.745740  0.0  30.0\n",
       "middle income              10.360486  0.0  30.0"
      ]
     },
     "execution_count": 129,
     "metadata": {},
     "output_type": "execute_result"
    }
   ],
   "source": [
    "# running aggregations on customer profiles byfrequency \n",
    "df_ords_prods_all.groupby('income_flag').agg({'days_since_prior_order': ['mean', 'min', 'max']})"
   ]
  },
  {
   "cell_type": "code",
   "execution_count": 130,
   "id": "1ff496cf",
   "metadata": {},
   "outputs": [
    {
     "data": {
      "text/html": [
       "<div>\n",
       "<style scoped>\n",
       "    .dataframe tbody tr th:only-of-type {\n",
       "        vertical-align: middle;\n",
       "    }\n",
       "\n",
       "    .dataframe tbody tr th {\n",
       "        vertical-align: top;\n",
       "    }\n",
       "\n",
       "    .dataframe thead tr th {\n",
       "        text-align: left;\n",
       "    }\n",
       "\n",
       "    .dataframe thead tr:last-of-type th {\n",
       "        text-align: right;\n",
       "    }\n",
       "</style>\n",
       "<table border=\"1\" class=\"dataframe\">\n",
       "  <thead>\n",
       "    <tr>\n",
       "      <th></th>\n",
       "      <th colspan=\"3\" halign=\"left\">days_since_prior_order</th>\n",
       "    </tr>\n",
       "    <tr>\n",
       "      <th></th>\n",
       "      <th>mean</th>\n",
       "      <th>min</th>\n",
       "      <th>max</th>\n",
       "    </tr>\n",
       "    <tr>\n",
       "      <th>marital_status</th>\n",
       "      <th></th>\n",
       "      <th></th>\n",
       "      <th></th>\n",
       "    </tr>\n",
       "  </thead>\n",
       "  <tbody>\n",
       "    <tr>\n",
       "      <th>divorced/widowed</th>\n",
       "      <td>10.323045</td>\n",
       "      <td>0.0</td>\n",
       "      <td>30.0</td>\n",
       "    </tr>\n",
       "    <tr>\n",
       "      <th>living with parents and siblings</th>\n",
       "      <td>10.344811</td>\n",
       "      <td>0.0</td>\n",
       "      <td>30.0</td>\n",
       "    </tr>\n",
       "    <tr>\n",
       "      <th>married</th>\n",
       "      <td>10.410488</td>\n",
       "      <td>0.0</td>\n",
       "      <td>30.0</td>\n",
       "    </tr>\n",
       "    <tr>\n",
       "      <th>single</th>\n",
       "      <td>10.402894</td>\n",
       "      <td>0.0</td>\n",
       "      <td>30.0</td>\n",
       "    </tr>\n",
       "  </tbody>\n",
       "</table>\n",
       "</div>"
      ],
      "text/plain": [
       "                                 days_since_prior_order           \n",
       "                                                   mean  min   max\n",
       "marital_status                                                    \n",
       "divorced/widowed                              10.323045  0.0  30.0\n",
       "living with parents and siblings              10.344811  0.0  30.0\n",
       "married                                       10.410488  0.0  30.0\n",
       "single                                        10.402894  0.0  30.0"
      ]
     },
     "execution_count": 130,
     "metadata": {},
     "output_type": "execute_result"
    }
   ],
   "source": [
    "# running aggregations on customer profiles byfrequency \n",
    "df_ords_prods_all.groupby('marital_status').agg({'days_since_prior_order': ['mean', 'min', 'max']})"
   ]
  },
  {
   "cell_type": "markdown",
   "id": "e7fe0034",
   "metadata": {},
   "source": [
    "## 3.15 Gender visualization"
   ]
  },
  {
   "cell_type": "code",
   "execution_count": 131,
   "id": "60aaf8d7",
   "metadata": {},
   "outputs": [
    {
     "data": {
      "image/png": "[encoded data removed]",
      "text/plain": [
       "<Figure size 640x480 with 1 Axes>"
      ]
     },
     "metadata": {},
     "output_type": "display_data"
    }
   ],
   "source": [
    "#bar chart for gender\n",
    "bar_gender = df_ords_prods_all['gender'].value_counts().sort_index().plot.bar()"
   ]
  },
  {
   "cell_type": "code",
   "execution_count": 133,
   "id": "622f04a7",
   "metadata": {},
   "outputs": [],
   "source": [
    "#saving bar for gender\n",
    "bar_gender.figure.savefig(os.path.join(path, '04 Analysis','Visualizations', 'bar_gender.png'))"
   ]
  },
  {
   "cell_type": "code",
   "execution_count": 134,
   "id": "8655af86",
   "metadata": {},
   "outputs": [
    {
     "data": {
      "text/plain": [
       "Male      15462635\n",
       "Female    15167106\n",
       "Name: gender, dtype: int64"
      ]
     },
     "execution_count": 134,
     "metadata": {},
     "output_type": "execute_result"
    }
   ],
   "source": [
    "#checking count\n",
    "df_ords_prods_all['gender'].value_counts(dropna = False)"
   ]
  },
  {
   "cell_type": "markdown",
   "id": "8b1dd5fb",
   "metadata": {},
   "source": [
    "## 3.16 Frequency Visulizations"
   ]
  },
  {
   "cell_type": "code",
   "execution_count": 136,
   "id": "7d5694f0",
   "metadata": {},
   "outputs": [],
   "source": [
    "#trying to make a stacked bar chart of frequency and age\n",
    "freq_age = df_ords_prods_all.groupby(['frequency_flag','age_flag']).size().unstack(fill_value=0)"
   ]
  },
  {
   "cell_type": "code",
   "execution_count": 137,
   "id": "b47475a8",
   "metadata": {},
   "outputs": [
    {
     "data": {
      "image/png": "[encoded data removed]",
      "text/plain": [
       "<Figure size 640x480 with 1 Axes>"
      ]
     },
     "metadata": {},
     "output_type": "display_data"
    }
   ],
   "source": [
    "#bar chart for freq and age\n",
    "freq_age = freq_age.plot.bar(stacked=False )"
   ]
  },
  {
   "cell_type": "code",
   "execution_count": 138,
   "id": "d7b5b619",
   "metadata": {},
   "outputs": [],
   "source": [
    "#saving bar for freq and age\n",
    "freq_age.figure.savefig(os.path.join(path, '04 Analysis','Visualizations', 'bar_freq_age.png'))"
   ]
  },
  {
   "cell_type": "code",
   "execution_count": 139,
   "id": "12ecef0d",
   "metadata": {},
   "outputs": [],
   "source": [
    "#trying to make a stacked bar chart of frequency and kids\n",
    "freq_kid = df_ords_prods_all.groupby(['frequency_flag','kids']).size().unstack(fill_value=0)"
   ]
  },
  {
   "cell_type": "code",
   "execution_count": 140,
   "id": "c0eceec5",
   "metadata": {},
   "outputs": [
    {
     "data": {
      "image/png": "[encoded data removed]",
      "text/plain": [
       "<Figure size 640x480 with 1 Axes>"
      ]
     },
     "metadata": {},
     "output_type": "display_data"
    }
   ],
   "source": [
    "#bar chart for freq and kid\n",
    "freq_kid = freq_kid.plot.bar(stacked=False )"
   ]
  },
  {
   "cell_type": "code",
   "execution_count": 141,
   "id": "84b77af3",
   "metadata": {},
   "outputs": [],
   "source": [
    "#saving bar for freq and kid\n",
    "freq_kid.figure.savefig(os.path.join(path, '04 Analysis','Visualizations', 'bar_freq_kid.png'))"
   ]
  },
  {
   "cell_type": "code",
   "execution_count": 142,
   "id": "e4bac1ac",
   "metadata": {},
   "outputs": [],
   "source": [
    "#trying to make a stacked bar chart of frequency and income\n",
    "freq_income = df_ords_prods_all.groupby(['frequency_flag','income_flag']).size().unstack(fill_value=0)"
   ]
  },
  {
   "cell_type": "code",
   "execution_count": 143,
   "id": "75053539",
   "metadata": {},
   "outputs": [
    {
     "data": {
      "image/png": "[encoded data removed]",
      "text/plain": [
       "<Figure size 640x480 with 1 Axes>"
      ]
     },
     "metadata": {},
     "output_type": "display_data"
    }
   ],
   "source": [
    "#bar chart for freq and income\n",
    "freq_income = freq_income.plot.bar(stacked=False )"
   ]
  },
  {
   "cell_type": "code",
   "execution_count": 144,
   "id": "ed4f40bd",
   "metadata": {},
   "outputs": [],
   "source": [
    "#saving bar for freq and kid\n",
    "freq_kid.figure.savefig(os.path.join(path, '04 Analysis','Visualizations', 'bar_freq_kid.png'))"
   ]
  },
  {
   "cell_type": "markdown",
   "id": "fbe2f448",
   "metadata": {},
   "source": [
    "# 04 Saving Data"
   ]
  },
  {
   "cell_type": "code",
   "execution_count": 149,
   "id": "2d5374bf",
   "metadata": {},
   "outputs": [],
   "source": [
    "# export data to pkl\n",
    "\n",
    "df_ords_prods_all.to_pickle(os.path.join(path, '02 Data','Prepared Data', 'ords_prods_all_410.pkl'))"
   ]
  },
  {
   "cell_type": "markdown",
   "id": "3ff5f0b8",
   "metadata": {},
   "source": [
    "## 4.1 Price Label Breakdown"
   ]
  },
  {
   "cell_type": "code",
   "execution_count": 147,
   "id": "f36af75f",
   "metadata": {},
   "outputs": [
    {
     "data": {
      "image/png": "[encoded data removed]",
      "text/plain": [
       "<Figure size 640x480 with 1 Axes>"
      ]
     },
     "metadata": {},
     "output_type": "display_data"
    }
   ],
   "source": [
    "price_label = df_ords_prods_all['price_label'].value_counts().sort_index().plot.pie()"
   ]
  },
  {
   "cell_type": "code",
   "execution_count": 148,
   "id": "94093286",
   "metadata": {},
   "outputs": [],
   "source": [
    "#saving bar for price\n",
    "price_label.figure.savefig(os.path.join(path, '04 Analysis','Visualizations', 'pie_price_label.png'))"
   ]
  },
  {
   "cell_type": "code",
   "execution_count": null,
   "id": "cca6850a",
   "metadata": {},
   "outputs": [],
   "source": []
  }
 ],
 "metadata": {
  "kernelspec": {
   "display_name": "Python 3 (ipykernel)",
   "language": "python",
   "name": "python3"
  },
  "language_info": {
   "codemirror_mode": {
    "name": "ipython",
    "version": 3
   },
   "file_extension": ".py",
   "mimetype": "text/x-python",
   "name": "python",
   "nbconvert_exporter": "python",
   "pygments_lexer": "ipython3",
   "version": "3.10.9"
  }
 },
 "nbformat": 4,
 "nbformat_minor": 5
}
